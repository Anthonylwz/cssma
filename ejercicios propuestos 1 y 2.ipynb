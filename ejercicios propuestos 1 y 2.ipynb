{
  "nbformat": 4,
  "nbformat_minor": 0,
  "metadata": {
    "colab": {
      "provenance": [],
      "mount_file_id": "1kWROhujIjNZYnThUcyNjKvJR104RiJAT",
      "authorship_tag": "ABX9TyN3YvSDhz1fQo5deobssI2D",
      "include_colab_link": true
    },
    "kernelspec": {
      "name": "python3",
      "display_name": "Python 3"
    },
    "language_info": {
      "name": "python"
    }
  },
  "cells": [
    {
      "cell_type": "markdown",
      "metadata": {
        "id": "view-in-github",
        "colab_type": "text"
      },
      "source": [
        "<a href=\"https://colab.research.google.com/github/Anthonylwz/cssma/blob/main/ejercicios%20propuestos%201%20y%202.ipynb\" target=\"_parent\"><img src=\"https://colab.research.google.com/assets/colab-badge.svg\" alt=\"Open In Colab\"/></a>"
      ]
    },
    {
      "cell_type": "markdown",
      "source": [
        "Numpy, libreria de ciencia de datos"
      ],
      "metadata": {
        "id": "q0IK7Va7uHwV"
      }
    },
    {
      "cell_type": "code",
      "execution_count": null,
      "metadata": {
        "id": "pUyCNvjttcYp"
      },
      "outputs": [],
      "source": [
        "import numpy as np\n",
        "#pip install numpy"
      ]
    },
    {
      "cell_type": "markdown",
      "source": [
        "array de 1 dimension"
      ],
      "metadata": {
        "id": "08OsxlD4wxnk"
      }
    },
    {
      "cell_type": "code",
      "source": [
        "array_1d=np.array((10,20,30))\n",
        "print(array_1d)"
      ],
      "metadata": {
        "colab": {
          "base_uri": "https://localhost:8080/"
        },
        "id": "mx39b2fvvqXF",
        "outputId": "64f4870a-3cab-4145-c470-a6841a8f654c"
      },
      "execution_count": null,
      "outputs": [
        {
          "output_type": "stream",
          "name": "stdout",
          "text": [
            "[10 20 30]\n"
          ]
        }
      ]
    },
    {
      "cell_type": "code",
      "source": [
        "array_1d"
      ],
      "metadata": {
        "colab": {
          "base_uri": "https://localhost:8080/"
        },
        "id": "MhdZlgTzwc9t",
        "outputId": "d24b76fb-b24c-4aa6-f070-2708fd64514c"
      },
      "execution_count": null,
      "outputs": [
        {
          "output_type": "execute_result",
          "data": {
            "text/plain": [
              "array([10, 20, 30])"
            ]
          },
          "metadata": {},
          "execution_count": 63
        }
      ]
    },
    {
      "cell_type": "markdown",
      "source": [
        "Array de 2 dimensiones\n"
      ],
      "metadata": {
        "id": "QPq8qFelwsG1"
      }
    },
    {
      "cell_type": "code",
      "source": [
        "array_2d=np.array([(10,20,30),(50,60,70)])\n",
        "array_2d"
      ],
      "metadata": {
        "colab": {
          "base_uri": "https://localhost:8080/"
        },
        "id": "muhfOuCfwooL",
        "outputId": "5e707909-8e8b-4641-9495-4b0e53880951"
      },
      "execution_count": null,
      "outputs": [
        {
          "output_type": "execute_result",
          "data": {
            "text/plain": [
              "array([[10, 20, 30],\n",
              "       [50, 60, 70]])"
            ]
          },
          "metadata": {},
          "execution_count": 23
        }
      ]
    },
    {
      "cell_type": "markdown",
      "source": [
        "Array de 3 dimensiones"
      ],
      "metadata": {
        "id": "aV_wDWIezMNm"
      }
    },
    {
      "cell_type": "code",
      "source": [
        "array_3d=np.array([(10,30,40),(50,60,70),(80,90,100)], dtype =float)\n",
        "array_3d"
      ],
      "metadata": {
        "colab": {
          "base_uri": "https://localhost:8080/"
        },
        "id": "XqW5kHkAx-Ul",
        "outputId": "d09ac7bc-7a38-4657-97d9-62a761191444"
      },
      "execution_count": null,
      "outputs": [
        {
          "output_type": "execute_result",
          "data": {
            "text/plain": [
              "array([[ 10.,  30.,  40.],\n",
              "       [ 50.,  60.,  70.],\n",
              "       [ 80.,  90., 100.]])"
            ]
          },
          "metadata": {},
          "execution_count": 24
        }
      ]
    },
    {
      "cell_type": "markdown",
      "source": [
        "Array con cerors de 3 filas y columnas\n"
      ],
      "metadata": {
        "id": "Fn_I-D4q4WeX"
      }
    },
    {
      "cell_type": "code",
      "source": [
        "np.zeros((3,4))"
      ],
      "metadata": {
        "colab": {
          "base_uri": "https://localhost:8080/"
        },
        "id": "3bc3Kzmr4cdf",
        "outputId": "afbf8d55-63e6-4878-99da-e0063bc9ca5c"
      },
      "execution_count": null,
      "outputs": [
        {
          "output_type": "execute_result",
          "data": {
            "text/plain": [
              "array([[0., 0., 0., 0.],\n",
              "       [0., 0., 0., 0.],\n",
              "       [0., 0., 0., 0.]])"
            ]
          },
          "metadata": {},
          "execution_count": 25
        }
      ]
    },
    {
      "cell_type": "code",
      "source": [
        "print(np.zeros((4,5)))"
      ],
      "metadata": {
        "colab": {
          "base_uri": "https://localhost:8080/"
        },
        "id": "wNuChUxW4jrv",
        "outputId": "04bb2b5d-af26-4433-8dde-a9a4ed472251"
      },
      "execution_count": null,
      "outputs": [
        {
          "output_type": "stream",
          "name": "stdout",
          "text": [
            "[[0. 0. 0. 0. 0.]\n",
            " [0. 0. 0. 0. 0.]\n",
            " [0. 0. 0. 0. 0.]\n",
            " [0. 0. 0. 0. 0.]]\n"
          ]
        }
      ]
    },
    {
      "cell_type": "markdown",
      "source": [
        "Array de unos y con 2 dimensiones 4 filas y 5 columnas"
      ],
      "metadata": {
        "id": "6sANFc4Q400X"
      }
    },
    {
      "cell_type": "code",
      "source": [
        "np.ones((2,4,5))"
      ],
      "metadata": {
        "colab": {
          "base_uri": "https://localhost:8080/"
        },
        "id": "qpDWNpSH4-HX",
        "outputId": "e9e3f387-5e31-498d-a8e8-05ee2d13baed"
      },
      "execution_count": null,
      "outputs": [
        {
          "output_type": "execute_result",
          "data": {
            "text/plain": [
              "array([[[1., 1., 1., 1., 1.],\n",
              "        [1., 1., 1., 1., 1.],\n",
              "        [1., 1., 1., 1., 1.],\n",
              "        [1., 1., 1., 1., 1.]],\n",
              "\n",
              "       [[1., 1., 1., 1., 1.],\n",
              "        [1., 1., 1., 1., 1.],\n",
              "        [1., 1., 1., 1., 1.],\n",
              "        [1., 1., 1., 1., 1.]]])"
            ]
          },
          "metadata": {},
          "execution_count": 27
        }
      ]
    },
    {
      "cell_type": "markdown",
      "source": [
        "Arrays intervalos y saltos"
      ],
      "metadata": {
        "id": "jyL5u0_d5X9G"
      }
    },
    {
      "cell_type": "code",
      "source": [
        "np.arange(11,30,2)"
      ],
      "metadata": {
        "colab": {
          "base_uri": "https://localhost:8080/"
        },
        "id": "cwRetaFN5axH",
        "outputId": "939d7428-3366-41e1-a40f-c58b9b3ccc25"
      },
      "execution_count": null,
      "outputs": [
        {
          "output_type": "execute_result",
          "data": {
            "text/plain": [
              "array([11, 13, 15, 17, 19, 21, 23, 25, 27, 29])"
            ]
          },
          "metadata": {},
          "execution_count": 28
        }
      ]
    },
    {
      "cell_type": "markdown",
      "source": [
        "Array con intervalos y divisiones\n"
      ],
      "metadata": {
        "id": "Entczuut78w4"
      }
    },
    {
      "cell_type": "code",
      "source": [
        "np.linspace(0,4,7)"
      ],
      "metadata": {
        "colab": {
          "base_uri": "https://localhost:8080/"
        },
        "id": "3QyM2paD8BKA",
        "outputId": "94e9576f-f371-4571-bdb3-fb94605476de"
      },
      "execution_count": null,
      "outputs": [
        {
          "output_type": "execute_result",
          "data": {
            "text/plain": [
              "array([0.        , 0.66666667, 1.33333333, 2.        , 2.66666667,\n",
              "       3.33333333, 4.        ])"
            ]
          },
          "metadata": {},
          "execution_count": 29
        }
      ]
    },
    {
      "cell_type": "markdown",
      "source": [
        "Arrays con valores dados"
      ],
      "metadata": {
        "id": "4jC2T8-b8kVQ"
      }
    },
    {
      "cell_type": "markdown",
      "source": [
        "números primos 11 al 30"
      ],
      "metadata": {
        "id": "YHRRphs47Wkp"
      }
    },
    {
      "cell_type": "code",
      "source": [
        "np.full((3,3),7)"
      ],
      "metadata": {
        "colab": {
          "base_uri": "https://localhost:8080/"
        },
        "id": "3YYPz0-r8pMQ",
        "outputId": "82aeadc2-8022-4825-8176-b1bdc3f392f3"
      },
      "execution_count": null,
      "outputs": [
        {
          "output_type": "execute_result",
          "data": {
            "text/plain": [
              "array([[7, 7, 7],\n",
              "       [7, 7, 7],\n",
              "       [7, 7, 7]])"
            ]
          },
          "metadata": {},
          "execution_count": 30
        }
      ]
    },
    {
      "cell_type": "markdown",
      "source": [
        "Array con matriz identidad, diagonal de unos"
      ],
      "metadata": {
        "id": "RByVnJj088xI"
      }
    },
    {
      "cell_type": "code",
      "source": [
        "np.eye(3)"
      ],
      "metadata": {
        "colab": {
          "base_uri": "https://localhost:8080/"
        },
        "id": "nJ-yVCyw9E0B",
        "outputId": "f49f2e09-5b20-42c4-cb29-a63a53c1b462"
      },
      "execution_count": null,
      "outputs": [
        {
          "output_type": "execute_result",
          "data": {
            "text/plain": [
              "array([[1., 0., 0.],\n",
              "       [0., 1., 0.],\n",
              "       [0., 0., 1.]])"
            ]
          },
          "metadata": {},
          "execution_count": 31
        }
      ]
    },
    {
      "cell_type": "markdown",
      "source": [
        "Array valores Aletorios"
      ],
      "metadata": {
        "id": "s6uKNXeh-gch"
      }
    },
    {
      "cell_type": "code",
      "source": [
        "np.random.random((5,4))"
      ],
      "metadata": {
        "colab": {
          "base_uri": "https://localhost:8080/"
        },
        "id": "o3ZA2NYB-jMx",
        "outputId": "bcffc277-f3e5-4695-e2ec-ad5de638a31f"
      },
      "execution_count": null,
      "outputs": [
        {
          "output_type": "execute_result",
          "data": {
            "text/plain": [
              "array([[0.22427513, 0.8185829 , 0.59601325, 0.17335236],\n",
              "       [0.53132843, 0.84154778, 0.60544078, 0.77270054],\n",
              "       [0.27896458, 0.57092147, 0.69575195, 0.13880172],\n",
              "       [0.83260906, 0.12338563, 0.31662342, 0.36102589],\n",
              "       [0.24371596, 0.07196885, 0.16905481, 0.55747915]])"
            ]
          },
          "metadata": {},
          "execution_count": 32
        }
      ]
    },
    {
      "cell_type": "markdown",
      "source": [
        "Array de numeros vacios 4/*3"
      ],
      "metadata": {
        "id": "rsUcOI6-_FJJ"
      }
    },
    {
      "cell_type": "code",
      "source": [
        "np.empty((4,3))"
      ],
      "metadata": {
        "colab": {
          "base_uri": "https://localhost:8080/"
        },
        "id": "Sk9FXZlM_Oo5",
        "outputId": "ed30052f-ee5b-4c03-8f98-cb2a48e5a68e"
      },
      "execution_count": null,
      "outputs": [
        {
          "output_type": "execute_result",
          "data": {
            "text/plain": [
              "array([[0., 0., 0.],\n",
              "       [0., 0., 0.],\n",
              "       [0., 0., 0.],\n",
              "       [0., 0., 0.]])"
            ]
          },
          "metadata": {},
          "execution_count": 33
        }
      ]
    },
    {
      "cell_type": "markdown",
      "source": [
        "Grabar y cargar"
      ],
      "metadata": {
        "id": "eljbbDZ5BnbK"
      }
    },
    {
      "cell_type": "code",
      "source": [
        "#Grabar\n",
        "np.save(\"mi_array_3d\",array_3d)"
      ],
      "metadata": {
        "id": "k7yawlWUBsn6"
      },
      "execution_count": null,
      "outputs": []
    },
    {
      "cell_type": "code",
      "source": [
        "#Cargar\n",
        "mi_array=np.load(\"mi_array_3d.npy\")\n",
        "mi_array"
      ],
      "metadata": {
        "colab": {
          "base_uri": "https://localhost:8080/"
        },
        "id": "Nwl9MGRDCljC",
        "outputId": "f3a5fa94-bd5e-4aad-885b-046ea0816d95"
      },
      "execution_count": null,
      "outputs": [
        {
          "output_type": "execute_result",
          "data": {
            "text/plain": [
              "array([[ 10.,  30.,  40.],\n",
              "       [ 50.,  60.,  70.],\n",
              "       [ 80.,  90., 100.]])"
            ]
          },
          "metadata": {},
          "execution_count": 35
        }
      ]
    },
    {
      "cell_type": "code",
      "source": [
        "#Grabar\n",
        "np.save(\"array_2d\", array_2d)"
      ],
      "metadata": {
        "id": "LV2Vyu_3EF4y"
      },
      "execution_count": null,
      "outputs": []
    },
    {
      "cell_type": "code",
      "source": [
        "#Cargar\n",
        "mi_array=np.load(\"array_2d.npy\")\n",
        "mi_array"
      ],
      "metadata": {
        "colab": {
          "base_uri": "https://localhost:8080/"
        },
        "id": "L9nq0iQjERuc",
        "outputId": "4acae509-456d-433b-fe78-3e1b53e6da8e"
      },
      "execution_count": null,
      "outputs": [
        {
          "output_type": "execute_result",
          "data": {
            "text/plain": [
              "array([[10, 20, 30],\n",
              "       [50, 60, 70]])"
            ]
          },
          "metadata": {},
          "execution_count": 37
        }
      ]
    },
    {
      "cell_type": "markdown",
      "source": [
        "Grabar y cargar ficheros de texto"
      ],
      "metadata": {
        "id": "Hquch0geE4Px"
      }
    },
    {
      "cell_type": "code",
      "source": [
        "#grabar el fichero de texto\n",
        "np.savetxt(\"mi_array.txt\",array_2d, delimiter=\",\")"
      ],
      "metadata": {
        "id": "de5IHD6CE8NM"
      },
      "execution_count": null,
      "outputs": []
    },
    {
      "cell_type": "code",
      "source": [
        "#cargar de fichero de texto\n",
        "np.loadtxt(\"mi_array.txt\", delimiter=\",\")"
      ],
      "metadata": {
        "colab": {
          "base_uri": "https://localhost:8080/"
        },
        "id": "ZLT1VNGSGKwb",
        "outputId": "bdc853c7-4050-47ed-f393-d83878000c73"
      },
      "execution_count": null,
      "outputs": [
        {
          "output_type": "execute_result",
          "data": {
            "text/plain": [
              "array([[10., 20., 30.],\n",
              "       [50., 60., 70.]])"
            ]
          },
          "metadata": {},
          "execution_count": 39
        }
      ]
    },
    {
      "cell_type": "markdown",
      "source": [
        "ejercicio01"
      ],
      "metadata": {
        "id": "q8PuTQKnKgqN"
      }
    },
    {
      "cell_type": "code",
      "source": [
        "#grabar\n",
        "asignaturas = [\"Matemáticas\", \"Física\", \"Química\", \"Historia\", \"Lengua\"]\n",
        "np.save(\"ejercicios/ejercicio 01.npy\", asignaturas)"
      ],
      "metadata": {
        "id": "sHHnEmNYPtGe"
      },
      "execution_count": null,
      "outputs": []
    },
    {
      "cell_type": "code",
      "source": [
        "#cargar\n",
        "np.load(\"ejercicios/ejercicio 01.npy\")"
      ],
      "metadata": {
        "id": "nkstRD2WQONO",
        "colab": {
          "base_uri": "https://localhost:8080/"
        },
        "outputId": "e89796a7-5f59-479d-bac7-1c01d4b6864a"
      },
      "execution_count": null,
      "outputs": [
        {
          "output_type": "execute_result",
          "data": {
            "text/plain": [
              "array(['Matemáticas', 'Física', 'Química', 'Historia', 'Lengua'],\n",
              "      dtype='<U11')"
            ]
          },
          "metadata": {},
          "execution_count": 41
        }
      ]
    },
    {
      "cell_type": "markdown",
      "source": [
        "ejercicio 02"
      ],
      "metadata": {
        "id": "qNLMHSUoRlD2"
      }
    },
    {
      "cell_type": "code",
      "source": [
        "materias = [\"Matemáticas\", \"Física\", \"Química\", \"Historia\", \"Lengua\"]\n",
        "np.save(\"ejercicios/ejercicio02.npy\", materias)"
      ],
      "metadata": {
        "id": "AjxI5zEQRnJm"
      },
      "execution_count": null,
      "outputs": []
    },
    {
      "cell_type": "code",
      "source": [
        "np.load(\"ejercicios/ejercicio02.npy\")\n",
        "for m in materias:\n",
        "    print(f\"Yo estudio {m}\")"
      ],
      "metadata": {
        "colab": {
          "base_uri": "https://localhost:8080/"
        },
        "id": "PGWawJrHTbF3",
        "outputId": "70c4844e-d16a-4846-8467-45afe714fa91"
      },
      "execution_count": null,
      "outputs": [
        {
          "output_type": "stream",
          "name": "stdout",
          "text": [
            "Yo estudio Matemáticas\n",
            "Yo estudio Física\n",
            "Yo estudio Química\n",
            "Yo estudio Historia\n",
            "Yo estudio Lengua\n"
          ]
        }
      ]
    },
    {
      "cell_type": "markdown",
      "source": [
        "ejercicio 03"
      ],
      "metadata": {
        "id": "Pie62HD_VSXf"
      }
    },
    {
      "cell_type": "code",
      "source": [
        "#grabar\n",
        "asignaturas = [\"Matemáticas\", \"Física\", \"Química\", \"Historia\", \"Lengua\"]\n",
        "np.save(\"ejercicios/ejercicio_03.npy\", asignaturas)"
      ],
      "metadata": {
        "id": "9Aeg4aQbW-xf"
      },
      "execution_count": null,
      "outputs": []
    },
    {
      "cell_type": "code",
      "source": [
        "112#cargar\n",
        "asignaturas = np.load(\"ejercicios/ejercicio_03.npy\")\n",
        "for asignatura in asignaturas:\n",
        "    nota = input(f\"¿Qué nota sacaste en {asignatura}? \")\n",
        "    print(f\"En {asignatura} has sacado {nota}\")\n"
      ],
      "metadata": {
        "colab": {
          "base_uri": "https://localhost:8080/"
        },
        "id": "2NRm7basX6XA",
        "outputId": "dba42374-fdde-4d0e-ddbd-d0e3b8022052"
      },
      "execution_count": null,
      "outputs": [
        {
          "output_type": "stream",
          "name": "stdout",
          "text": [
            "¿Qué nota sacaste en Matemáticas? 12\n",
            "En Matemáticas has sacado 12\n",
            "¿Qué nota sacaste en Física? 12\n",
            "En Física has sacado 12\n",
            "¿Qué nota sacaste en Química? 12\n",
            "En Química has sacado 12\n",
            "¿Qué nota sacaste en Historia? 12\n",
            "En Historia has sacado 12\n",
            "¿Qué nota sacaste en Lengua? 12\n",
            "En Lengua has sacado 12\n"
          ]
        }
      ]
    },
    {
      "cell_type": "markdown",
      "source": [
        "Ejercicio 04"
      ],
      "metadata": {
        "id": "O5S4pyaAaNA4"
      }
    },
    {
      "cell_type": "code",
      "source": [
        "#grabar\n",
        "import numpy as np\n",
        "ganadores = []\n",
        "for i in range(6):\n",
        "    numero = int(input(f\"Introduce el número ganador {i+1}: \"))\n",
        "    ganadores.append(numero)\n",
        "np.save(\"ejercicios/ejercicio_04.npy\", np.array(ganadores))\n",
        "\n"
      ],
      "metadata": {
        "id": "hJxr1taqemzS",
        "outputId": "cbb28162-a419-471d-dab7-071719e700e1",
        "colab": {
          "base_uri": "https://localhost:8080/"
        }
      },
      "execution_count": null,
      "outputs": [
        {
          "name": "stdout",
          "output_type": "stream",
          "text": [
            "Introduce el número ganador 1: 12\n",
            "Introduce el número ganador 2: 12\n",
            "Introduce el número ganador 3: 12\n",
            "Introduce el número ganador 4: 12\n",
            "Introduce el número ganador 5: 12\n",
            "Introduce el número ganador 6: 12\n"
          ]
        }
      ]
    },
    {
      "cell_type": "code",
      "source": [
        "#cargar\n",
        "import numpy as np\n",
        "ganadores = np.load(\"ejercicios/ejercicio_04.npy\")\n",
        "ganadores_ordenados = np.sort(ganadores)\n",
        "print(\"Números ganadores ordenados:\", \", \".join(str(n) for n in ganadores_ordenados))\n"
      ],
      "metadata": {
        "id": "a8CpFALAenhB",
        "colab": {
          "base_uri": "https://localhost:8080/"
        },
        "outputId": "def04be0-faec-4f07-d982-0ae1b5f8ef96"
      },
      "execution_count": null,
      "outputs": [
        {
          "output_type": "stream",
          "name": "stdout",
          "text": [
            "Números ganadores ordenados: 12, 12, 12, 12, 12, 12\n"
          ]
        }
      ]
    },
    {
      "cell_type": "markdown",
      "source": [
        "Ejercicio 05"
      ],
      "metadata": {
        "id": "63WWBVSsbMgv"
      }
    },
    {
      "cell_type": "code",
      "source": [
        "#  grabar\n",
        "import numpy as np\n",
        "\n",
        "numeros = list(range(1, 11))\n",
        "np.save(\"ejercicios/ejercicio_05.npy\", numeros)\n"
      ],
      "metadata": {
        "id": "i53AHMStbQkg"
      },
      "execution_count": null,
      "outputs": []
    },
    {
      "cell_type": "code",
      "source": [
        "#  cargar\n",
        "import numpy as np\n",
        "numeros = np.load(\"ejercicios/ejercicio_05.npy\")\n",
        "print(\"Números en orden inverso:\")\n",
        "print(\", \".join(str(n) for n in reversed(numeros)))\n"
      ],
      "metadata": {
        "colab": {
          "base_uri": "https://localhost:8080/"
        },
        "id": "xlE4YIpSfnBC",
        "outputId": "48f58d87-8974-4c24-b70f-6a5588510f9c"
      },
      "execution_count": null,
      "outputs": [
        {
          "output_type": "stream",
          "name": "stdout",
          "text": [
            "Números en orden inverso:\n",
            "10, 9, 8, 7, 6, 5, 4, 3, 2, 1\n"
          ]
        }
      ]
    },
    {
      "cell_type": "markdown",
      "source": [
        "Ejercicio 06"
      ],
      "metadata": {
        "id": "joS4KL3sgaPR"
      }
    },
    {
      "cell_type": "code",
      "source": [
        "# grabar\n",
        "import numpy as np\n",
        "asignaturas = [\"Matemáticas\", \"Física\", \"Química\", \"Historia\", \"Lengua\"]\n",
        "np.save(\"ejercicios/ejercicio_06.npy\", asignaturas)\n"
      ],
      "metadata": {
        "id": "SjPU0tsDgcVx"
      },
      "execution_count": null,
      "outputs": []
    },
    {
      "cell_type": "code",
      "source": [
        "# cargar\n",
        "import numpy as np\n",
        "asignaturas = np.load(\"ejercicios/ejercicio_06.npy\")\n",
        "suspendidas = []\n",
        "for asignatura in asignaturas:\n",
        "    nota = float(input(f\"¿Qué nota sacaste en {asignatura}? \"))\n",
        "    if nota < 5:\n",
        "        suspendidas.append(asignatura)\n",
        "print(\"Tienes que repetir:\", \", \".join(suspendidas))\n"
      ],
      "metadata": {
        "colab": {
          "base_uri": "https://localhost:8080/"
        },
        "id": "mlHhPkp_gzq5",
        "outputId": "504df5ab-37bf-4800-fcf8-b2c5fb98c452"
      },
      "execution_count": null,
      "outputs": [
        {
          "output_type": "stream",
          "name": "stdout",
          "text": [
            "¿Qué nota sacaste en Matemáticas? 12\n",
            "¿Qué nota sacaste en Física? 12\n",
            "¿Qué nota sacaste en Química? 12\n",
            "¿Qué nota sacaste en Historia? 12\n",
            "¿Qué nota sacaste en Lengua? 12\n",
            "Tienes que repetir: \n"
          ]
        }
      ]
    },
    {
      "cell_type": "markdown",
      "source": [
        "Ejercicio 07"
      ],
      "metadata": {
        "id": "6FzB6FJog9E5"
      }
    },
    {
      "cell_type": "code",
      "source": [
        "# grabar\n",
        "import numpy as np\n",
        "import string\n",
        "\n",
        "abecedario = list(string.ascii_lowercase)\n",
        "np.save(\"ejercicios/ejercicio_07.npy\", np.array(abecedario))\n"
      ],
      "metadata": {
        "id": "UztvAPIMh9oK"
      },
      "execution_count": null,
      "outputs": []
    },
    {
      "cell_type": "code",
      "source": [
        "# 📤 cargar\n",
        "import numpy as np\n",
        "\n",
        "abecedario = np.load(\"ejercicios/ejercicio_07.npy\")\n",
        "\n",
        "resultado = [letra for i, letra in enumerate(abecedario) if (i + 1) % 3 != 0]\n",
        "\n",
        "print(\", \".join(resultado))\n"
      ],
      "metadata": {
        "colab": {
          "base_uri": "https://localhost:8080/"
        },
        "id": "gaSXKLj_iB_Z",
        "outputId": "b367b54f-a7e7-454c-b45a-1d6227e28915"
      },
      "execution_count": null,
      "outputs": [
        {
          "output_type": "stream",
          "name": "stdout",
          "text": [
            "a, b, d, e, g, h, j, k, m, n, p, q, s, t, v, w, y, z\n"
          ]
        }
      ]
    },
    {
      "cell_type": "markdown",
      "source": [
        "Ejercicio 8"
      ],
      "metadata": {
        "id": "f643msk2iFuB"
      }
    },
    {
      "cell_type": "code",
      "source": [
        "# grabar\n",
        "import numpy as np\n",
        "\n",
        "palabra = input(\"Introduce una palabra: \")\n",
        "np.save(\"ejercicios/ejercicio_08.npy\", np.array([palabra]))\n"
      ],
      "metadata": {
        "colab": {
          "base_uri": "https://localhost:8080/"
        },
        "id": "yzhymoA9iHeZ",
        "outputId": "f7d0551b-4f4f-470a-ea63-4f5d237f5b6b"
      },
      "execution_count": null,
      "outputs": [
        {
          "name": "stdout",
          "output_type": "stream",
          "text": [
            "Introduce una palabra: hola\n"
          ]
        }
      ]
    },
    {
      "cell_type": "code",
      "source": [
        "# 📤 cargar\n",
        "import numpy as np\n",
        "\n",
        "palabra = np.load(\"ejercicios/ejercicio_08.npy\")[0]\n",
        "\n",
        "if palabra == palabra[::-1]:\n",
        "    print(\"La palabra es un palíndromo.\")\n",
        "else:\n",
        "    print(\"La palabra no es un palíndromo.\")\n"
      ],
      "metadata": {
        "colab": {
          "base_uri": "https://localhost:8080/"
        },
        "id": "xwKqvP73iRbS",
        "outputId": "81b703f0-8db5-4c95-8b20-b3201aa25c03"
      },
      "execution_count": null,
      "outputs": [
        {
          "output_type": "stream",
          "name": "stdout",
          "text": [
            "La palabra no es un palíndromo.\n"
          ]
        }
      ]
    },
    {
      "cell_type": "markdown",
      "source": [
        "Ejercicio 9"
      ],
      "metadata": {
        "id": "cY_rXnw0iXJB"
      }
    },
    {
      "cell_type": "code",
      "source": [
        "# grabar\n",
        "import numpy as np\n",
        "\n",
        "palabra = input(\"Introduce una palabra: \").lower()\n",
        "np.save(\"ejercicios/ejercicio_09.npy\", np.array([palabra]))\n"
      ],
      "metadata": {
        "colab": {
          "base_uri": "https://localhost:8080/"
        },
        "id": "Qtlu6wN4iaKr",
        "outputId": "77f00401-0c16-4e88-d16f-2b92a18e18b7"
      },
      "execution_count": null,
      "outputs": [
        {
          "name": "stdout",
          "output_type": "stream",
          "text": [
            "Introduce una palabra: love\n"
          ]
        }
      ]
    },
    {
      "cell_type": "code",
      "source": [
        "# cargar\n",
        "import numpy as np\n",
        "palabra = np.load(\"ejercicios/ejercicio_09.npy\")[0]\n",
        "vocales = \"aeiou\"\n",
        "for vocal in vocales:\n",
        "    print(f\"{vocal}: {palabra.count(vocal)}\")\n"
      ],
      "metadata": {
        "colab": {
          "base_uri": "https://localhost:8080/"
        },
        "id": "XLHS-po7irya",
        "outputId": "70c4b705-92ad-4fc8-b1f7-843b2fb97a69"
      },
      "execution_count": null,
      "outputs": [
        {
          "output_type": "stream",
          "name": "stdout",
          "text": [
            "a: 0\n",
            "e: 1\n",
            "i: 0\n",
            "o: 1\n",
            "u: 0\n"
          ]
        }
      ]
    },
    {
      "cell_type": "markdown",
      "source": [
        "Ejercicio 10"
      ],
      "metadata": {
        "id": "OrAw7S1liu8p"
      }
    },
    {
      "cell_type": "code",
      "source": [
        "# grabar\n",
        "import numpy as np\n",
        "precios = [50, 75, 46, 22, 80, 65, 8]\n",
        "np.save(\"ejercicios/ejercicio_10.npy\", np.array(precios))\n"
      ],
      "metadata": {
        "id": "2tUo9jcYiwYl"
      },
      "execution_count": null,
      "outputs": []
    },
    {
      "cell_type": "code",
      "source": [
        "# cargar\n",
        "import numpy as np\n",
        "precios = np.load(\"ejercicios/ejercicio_10.npy\")\n",
        "\n",
        "print(\"Menor precio:\", min(precios))\n",
        "print(\"Mayor precio:\", max(precios))\n"
      ],
      "metadata": {
        "colab": {
          "base_uri": "https://localhost:8080/"
        },
        "id": "gzwEv8C9jVsj",
        "outputId": "40ae2e59-b49d-4fc5-9069-fa5dedc296e2"
      },
      "execution_count": null,
      "outputs": [
        {
          "output_type": "stream",
          "name": "stdout",
          "text": [
            "Menor precio: 8\n",
            "Mayor precio: 80\n"
          ]
        }
      ]
    },
    {
      "cell_type": "markdown",
      "source": [
        "Ejercicio 11"
      ],
      "metadata": {
        "id": "Vr_C48_wjslS"
      }
    },
    {
      "cell_type": "code",
      "source": [
        "# grabar\n",
        "import numpy as np\n",
        "vector1 = [1, 2, 3]\n",
        "vector2 = [-1, 0, 2]\n",
        "np.save(\"ejercicios/ejercicio_11_vector1.npy\", np.array(vector1))\n",
        "np.save(\"ejercicios/ejercicio_11_vector2.npy\", np.array(vector2))\n"
      ],
      "metadata": {
        "id": "JbAbxkxNjxMh"
      },
      "execution_count": null,
      "outputs": []
    },
    {
      "cell_type": "code",
      "source": [
        "#  cargar\n",
        "import numpy as np\n",
        "vector1 = np.load(\"ejercicios/ejercicio_11_vector1.npy\")\n",
        "vector2 = np.load(\"ejercicios/ejercicio_11_vector2.npy\")\n",
        "\n",
        "producto_escalar = np.dot(vector1, vector2)\n",
        "\n",
        "print(\"Producto escalar:\", producto_escalar)\n"
      ],
      "metadata": {
        "colab": {
          "base_uri": "https://localhost:8080/"
        },
        "id": "qJmXCOknj3A6",
        "outputId": "bfaea561-1d6d-4186-c34f-564a63b74bbe"
      },
      "execution_count": null,
      "outputs": [
        {
          "output_type": "stream",
          "name": "stdout",
          "text": [
            "Producto escalar: 5\n"
          ]
        }
      ]
    },
    {
      "cell_type": "markdown",
      "source": [
        "Ejercicio 12"
      ],
      "metadata": {
        "id": "RmT1V_NGj5gY"
      }
    },
    {
      "cell_type": "code",
      "source": [
        "# grabar\n",
        "import numpy as np\n",
        "matriz1 = [[1, 2], [3, 4]]\n",
        "matriz2 = [[5, 6], [7, 8]]\n",
        "np.save(\"ejercicios/ejercicio_12_matriz1.npy\", np.array(matriz1))\n",
        "np.save(\"ejercicios/ejercicio_12_matriz2.npy\", np.array(matriz2))\n"
      ],
      "metadata": {
        "id": "BnJnkceMj675"
      },
      "execution_count": null,
      "outputs": []
    },
    {
      "cell_type": "code",
      "source": [
        "#  cargar\n",
        "import numpy as np\n",
        "matriz1 = np.load(\"ejercicios/ejercicio_12_matriz1.npy\")\n",
        "matriz2 = np.load(\"ejercicios/ejercicio_12_matriz2.npy\")\n",
        "producto = np.dot(matriz1, matriz2)\n",
        "\n",
        "print(\"Producto de las matrices:\")\n",
        "print(producto)\n"
      ],
      "metadata": {
        "colab": {
          "base_uri": "https://localhost:8080/"
        },
        "id": "9WB3V4wfkBUZ",
        "outputId": "5a7de8d8-b682-40cc-da34-8d2cae6def7d"
      },
      "execution_count": null,
      "outputs": [
        {
          "output_type": "stream",
          "name": "stdout",
          "text": [
            "Producto de las matrices:\n",
            "[[19 22]\n",
            " [43 50]]\n"
          ]
        }
      ]
    },
    {
      "cell_type": "markdown",
      "source": [
        "Ejercicio 13"
      ],
      "metadata": {
        "id": "NFROv5_3kD2Z"
      }
    },
    {
      "cell_type": "code",
      "source": [
        "# grabar\n",
        "import numpy as np\n",
        "entrada = input(\"Introduce números separados por comas: \")\n",
        "numeros = [float(x.strip()) for x in entrada.split(\",\")]\n",
        "np.save(\"ejercicios/ejercicio_13.npy\", np.array(numeros, dtype=float))\n"
      ],
      "metadata": {
        "colab": {
          "base_uri": "https://localhost:8080/"
        },
        "id": "q7tkXCB9kGDB",
        "outputId": "a8422044-7e72-48f3-e64d-edc4ed1f2dc6"
      },
      "execution_count": null,
      "outputs": [
        {
          "name": "stdout",
          "output_type": "stream",
          "text": [
            "Introduce números separados por comas: 1,2,4\n"
          ]
        }
      ]
    },
    {
      "cell_type": "code",
      "source": [
        "# cargar\n",
        "import numpy as np\n",
        "numeros = np.load(\"ejercicios/ejercicio_13.npy\")\n",
        "media = np.mean(numeros)\n",
        "desviacion = np.std(numeros)\n",
        "\n",
        "print(\"Media:\", round(media, 2))\n",
        "print(\"Desviación típica:\", round(desviacion, 2))\n"
      ],
      "metadata": {
        "colab": {
          "base_uri": "https://localhost:8080/"
        },
        "id": "jZbK1KZEkMQy",
        "outputId": "6c17033c-f127-40cc-84b6-6a9fafef7f2b"
      },
      "execution_count": null,
      "outputs": [
        {
          "output_type": "stream",
          "name": "stdout",
          "text": [
            "Media: 2.33\n",
            "Desviación típica: 1.25\n"
          ]
        }
      ]
    },
    {
      "cell_type": "markdown",
      "source": [
        "Tipos de datos"
      ],
      "metadata": {
        "id": "HcKmWutVhK1x"
      }
    },
    {
      "cell_type": "code",
      "source": [
        "#Enteros\n",
        "np.int64"
      ],
      "metadata": {
        "colab": {
          "base_uri": "https://localhost:8080/"
        },
        "id": "5PkENUsUhNjZ",
        "outputId": "22e85908-a4d4-4ac8-d822-24e23e1dc679"
      },
      "execution_count": null,
      "outputs": [
        {
          "output_type": "execute_result",
          "data": {
            "text/plain": [
              "numpy.int64"
            ]
          },
          "metadata": {},
          "execution_count": 52
        }
      ]
    },
    {
      "cell_type": "code",
      "source": [
        "#Decimal, Flotantes\n",
        "np.float64"
      ],
      "metadata": {
        "colab": {
          "base_uri": "https://localhost:8080/"
        },
        "id": "1qb7DXxJhS8Z",
        "outputId": "e3bbb76b-7ca5-4c02-ed05-0f113e0d3754"
      },
      "execution_count": null,
      "outputs": [
        {
          "output_type": "execute_result",
          "data": {
            "text/plain": [
              "numpy.float64"
            ]
          },
          "metadata": {},
          "execution_count": 53
        }
      ]
    },
    {
      "cell_type": "code",
      "source": [
        "#Complejos\n",
        "np.complex64"
      ],
      "metadata": {
        "colab": {
          "base_uri": "https://localhost:8080/"
        },
        "id": "pCrTlEE4iyXa",
        "outputId": "5f44cfe1-678d-470d-a1f8-7823c0671f3d"
      },
      "execution_count": null,
      "outputs": [
        {
          "output_type": "execute_result",
          "data": {
            "text/plain": [
              "numpy.complex64"
            ]
          },
          "metadata": {},
          "execution_count": 70
        }
      ]
    },
    {
      "cell_type": "code",
      "source": [
        "#Boleanos\n",
        "np-np.bool_"
      ],
      "metadata": {
        "id": "NHnLaNz-jdJJ"
      },
      "execution_count": null,
      "outputs": []
    },
    {
      "cell_type": "markdown",
      "source": [
        "Ejercicios propuestos 2"
      ],
      "metadata": {
        "id": "9eYdI28njfUY"
      }
    },
    {
      "cell_type": "markdown",
      "source": [
        "Ejercicio 1"
      ],
      "metadata": {
        "id": "eeQO0TQ4jimq"
      }
    },
    {
      "cell_type": "code",
      "source": [
        "año_inicio = int(input(\"Ingrese el año de inicio: \"))\n",
        "año_fin = int(input(\"Ingrese el año final: \"))\n",
        "\n",
        "años = list(range(año_inicio, año_fin + 1))\n",
        "ventas = []\n",
        "\n",
        "for año in años:\n",
        "    venta = float(input(f\"Ingrese las ventas para el año {año}: \"))\n",
        "    ventas.append(venta)\n",
        "\n",
        "serie_ventas = pd.Series(ventas, index=años)\n",
        "print(\"\\nVentas originales:\")\n",
        "print(serie_ventas)\n",
        "\n",
        "ventas_descuento = serie_ventas * 0.9\n",
        "print(\"\\nVentas con 10% de descuento:\")\n",
        "print(ventas_descuento)\n"
      ],
      "metadata": {
        "colab": {
          "base_uri": "https://localhost:8080/"
        },
        "id": "lJF2reW-jeuA",
        "outputId": "e259b6d4-4c2c-4e6b-973c-7a2b44dbb531"
      },
      "execution_count": 1,
      "outputs": [
        {
          "output_type": "stream",
          "name": "stdout",
          "text": [
            "Ingrese el año de inicio: 2023\n",
            "Ingrese el año final: 2025\n",
            "Ingrese las ventas para el año 2023: 2000\n",
            "Ingrese las ventas para el año 2024: 11\n",
            "Ingrese las ventas para el año 2025: 150\n",
            "\n",
            "Ventas originales:\n",
            "2023    2000.0\n",
            "2024      11.0\n",
            "2025     150.0\n",
            "dtype: float64\n",
            "\n",
            "Ventas con 10% de descuento:\n",
            "2023    1800.0\n",
            "2024       9.9\n",
            "2025     135.0\n",
            "dtype: float64\n"
          ]
        }
      ]
    },
    {
      "cell_type": "markdown",
      "source": [
        "Ejercicio 2"
      ],
      "metadata": {
        "id": "EX2mne0kjwPK"
      }
    },
    {
      "cell_type": "code",
      "source": [
        "def resumen_notas(diccionario_notas):\n",
        "    notas = pd.Series(list(diccionario_notas.values()))\n",
        "    resumen = pd.Series({\n",
        "        'Nota mínima': notas.min(),\n",
        "        'Nota máxima': notas.max(),\n",
        "        'Nota media': notas.mean(),\n",
        "        'Desviación típica': notas.std()\n",
        "    })\n",
        "    return resumen\n",
        "\n",
        "notas_alumnos = {\n",
        "    'Juan': 15,\n",
        "    'Ana': 18,\n",
        "    'Luis': 12,\n",
        "    'Carla': 19,\n",
        "    'Pedro': 14\n",
        "}\n",
        "\n",
        "print(resumen_notas(notas_alumnos))\n"
      ],
      "metadata": {
        "colab": {
          "base_uri": "https://localhost:8080/"
        },
        "id": "-Qmw2EVfjxuq",
        "outputId": "b02ec16f-da2b-4650-87e2-a870e18a6cb6"
      },
      "execution_count": 2,
      "outputs": [
        {
          "output_type": "stream",
          "name": "stdout",
          "text": [
            "Nota mínima          12.000000\n",
            "Nota máxima          19.000000\n",
            "Nota media           15.600000\n",
            "Desviación típica     2.880972\n",
            "dtype: float64\n"
          ]
        }
      ]
    },
    {
      "cell_type": "markdown",
      "source": [
        "Ejercicio 3"
      ],
      "metadata": {
        "id": "RrmHFzKOj9ob"
      }
    },
    {
      "cell_type": "code",
      "source": [
        "def notas_aprobados(diccionario_notas):\n",
        "    notas = pd.Series(diccionario_notas)\n",
        "    aprobados = notas[notas >= 13].sort_values(ascending=False)\n",
        "    return aprobados\n",
        "\n",
        "notas_alumnos = {\n",
        "    'Juan': 15,\n",
        "    'Ana': 18,\n",
        "    'Luis': 12,\n",
        "    'Carla': 19,\n",
        "    'Pedro': 14\n",
        "}\n",
        "\n",
        "print(notas_aprobados(notas_alumnos))\n"
      ],
      "metadata": {
        "colab": {
          "base_uri": "https://localhost:8080/"
        },
        "id": "PHwrgntPj-26",
        "outputId": "79eb8517-e4dc-4fdf-d38c-0997663e4052"
      },
      "execution_count": 6,
      "outputs": [
        {
          "output_type": "stream",
          "name": "stdout",
          "text": [
            "Carla    19\n",
            "Ana      18\n",
            "Juan     15\n",
            "Pedro    14\n",
            "dtype: int64\n"
          ]
        }
      ]
    },
    {
      "cell_type": "markdown",
      "source": [
        "Ejercicio 4"
      ],
      "metadata": {
        "id": "7wFxAUTZkfhn"
      }
    },
    {
      "cell_type": "code",
      "source": [
        "datos = {\n",
        "    'Mes': ['Enero', 'Febrero', 'Marzo', 'Abril'],\n",
        "    'Ventas': [30500, 35600, 28300, 33900],\n",
        "    'Gastos': [22000, 23400, 18100, 20700]\n",
        "}\n",
        "\n",
        "df = pd.DataFrame(datos)\n",
        "print(df)\n"
      ],
      "metadata": {
        "colab": {
          "base_uri": "https://localhost:8080/"
        },
        "id": "UKQ-O3oEktIa",
        "outputId": "20b6e91d-40db-4119-85ff-c406c96ba8f9"
      },
      "execution_count": 7,
      "outputs": [
        {
          "output_type": "stream",
          "name": "stdout",
          "text": [
            "       Mes  Ventas  Gastos\n",
            "0    Enero   30500   22000\n",
            "1  Febrero   35600   23400\n",
            "2    Marzo   28300   18100\n",
            "3    Abril   33900   20700\n"
          ]
        }
      ]
    },
    {
      "cell_type": "markdown",
      "source": [
        "Ejercicio 5"
      ],
      "metadata": {
        "id": "4bunwUFqlLQi"
      }
    },
    {
      "cell_type": "code",
      "source": [
        "def balance_total(df, lista_meses):\n",
        "    df_filtrado = df[df['Mes'].isin(lista_meses)]\n",
        "    balance = (df_filtrado['Ventas'] - df_filtrado['Gastos']).sum()\n",
        "    return balance\n",
        "\n",
        "meses_seleccionados = ['Enero', 'Marzo']\n",
        "print(balance_total(df, meses_seleccionados))\n"
      ],
      "metadata": {
        "colab": {
          "base_uri": "https://localhost:8080/"
        },
        "id": "vpCOjtd0lMjb",
        "outputId": "2f6e1e2b-0d73-4eb3-86c8-4e5b3ff303b1"
      },
      "execution_count": 8,
      "outputs": [
        {
          "output_type": "stream",
          "name": "stdout",
          "text": [
            "18700\n"
          ]
        }
      ]
    },
    {
      "cell_type": "markdown",
      "source": [
        "Ejercicio 6"
      ],
      "metadata": {
        "id": "Rn1nxQLRlW3j"
      }
    },
    {
      "cell_type": "code",
      "source": [
        "def resumen_cotizacion(nombre_archivo):\n",
        "    df = pd.read_csv(nombre_archivo)\n",
        "    resumen = df.describe().loc[['min', 'max', 'mean']]\n",
        "    resumen.rename(index={'min': 'Mínimo', 'max': 'Máximo', 'mean': 'Media'}, inplace=True)\n",
        "    return resumen"
      ],
      "metadata": {
        "id": "O1DFtb-xlYMb"
      },
      "execution_count": 17,
      "outputs": []
    },
    {
      "cell_type": "markdown",
      "source": [
        "Ejercicio 7"
      ],
      "metadata": {
        "id": "U_1D1qyQlaY8"
      }
    },
    {
      "cell_type": "code",
      "source": [
        "import pandas as pd\n",
        "\n",
        "df = pd.read_csv('/content/titanic.csv')\n",
        "\n",
        "print(\"Dimensiones:\", df.shape)\n",
        "print(\"Número de datos:\", df.size)\n",
        "print(\"Columnas:\", df.columns.tolist())\n",
        "print(\"Índices:\", df.index.tolist())\n",
        "print(\"Tipos de datos:\\n\", df.dtypes)\n",
        "print(\"Primeras 10 filas:\\n\", df.head(10))\n",
        "print(\"Últimas 10 filas:\\n\", df.tail(10))\n",
        "print(\"Pasajero con ID 148:\\n\", df.loc[148])\n",
        "print(\"Filas pares:\\n\", df.iloc[::2])\n",
        "primera_clase = df[df['Pclass'] == 1]['Name'].sort_values()\n",
        "print(\"Personas en primera clase ordenadas alfabéticamente:\\n\", primera_clase)\n",
        "supervivientes = df['Survived'].value_counts(normalize=True) * 100\n",
        "print(\"Porcentaje de personas que sobrevivieron y murieron:\\n\", supervivientes)\n",
        "supervivientes_clase = df.groupby('Pclass')['Survived'].mean() * 100\n",
        "print(\"Porcentaje de supervivientes en cada clase:\\n\", supervivientes_clase)\n",
        "df = df.dropna(subset=['Age'])\n",
        "edad_media_mujeres = df[df['Sex'] == 'female'].groupby('Pclass')['Age'].mean()\n",
        "print(\"Edad media de mujeres por clase:\\n\", edad_media_mujeres)\n",
        "df['MenorEdad'] = df['Age'] < 18\n",
        "supervivencia_menores = df.groupby(['Pclass', 'MenorEdad'])['Survived'].mean() * 100\n",
        "print(\"Porcentaje de menores y mayores que sobrevivieron en cada clase:\\n\", supervivencia_menores)"
      ],
      "metadata": {
        "colab": {
          "base_uri": "https://localhost:8080/"
        },
        "id": "i65uCyH2lcvb",
        "outputId": "e6a178d3-6028-47ee-d35f-299b0eaaec1f"
      },
      "execution_count": 19,
      "outputs": [
        {
          "output_type": "stream",
          "name": "stdout",
          "text": [
            "Dimensiones: (891, 12)\n",
            "Número de datos: 10692\n",
            "Columnas: ['PassengerId', 'Survived', 'Pclass', 'Name', 'Sex', 'Age', 'SibSp', 'Parch', 'Ticket', 'Fare', 'Cabin', 'Embarked']\n",
            "Índices: [0, 1, 2, 3, 4, 5, 6, 7, 8, 9, 10, 11, 12, 13, 14, 15, 16, 17, 18, 19, 20, 21, 22, 23, 24, 25, 26, 27, 28, 29, 30, 31, 32, 33, 34, 35, 36, 37, 38, 39, 40, 41, 42, 43, 44, 45, 46, 47, 48, 49, 50, 51, 52, 53, 54, 55, 56, 57, 58, 59, 60, 61, 62, 63, 64, 65, 66, 67, 68, 69, 70, 71, 72, 73, 74, 75, 76, 77, 78, 79, 80, 81, 82, 83, 84, 85, 86, 87, 88, 89, 90, 91, 92, 93, 94, 95, 96, 97, 98, 99, 100, 101, 102, 103, 104, 105, 106, 107, 108, 109, 110, 111, 112, 113, 114, 115, 116, 117, 118, 119, 120, 121, 122, 123, 124, 125, 126, 127, 128, 129, 130, 131, 132, 133, 134, 135, 136, 137, 138, 139, 140, 141, 142, 143, 144, 145, 146, 147, 148, 149, 150, 151, 152, 153, 154, 155, 156, 157, 158, 159, 160, 161, 162, 163, 164, 165, 166, 167, 168, 169, 170, 171, 172, 173, 174, 175, 176, 177, 178, 179, 180, 181, 182, 183, 184, 185, 186, 187, 188, 189, 190, 191, 192, 193, 194, 195, 196, 197, 198, 199, 200, 201, 202, 203, 204, 205, 206, 207, 208, 209, 210, 211, 212, 213, 214, 215, 216, 217, 218, 219, 220, 221, 222, 223, 224, 225, 226, 227, 228, 229, 230, 231, 232, 233, 234, 235, 236, 237, 238, 239, 240, 241, 242, 243, 244, 245, 246, 247, 248, 249, 250, 251, 252, 253, 254, 255, 256, 257, 258, 259, 260, 261, 262, 263, 264, 265, 266, 267, 268, 269, 270, 271, 272, 273, 274, 275, 276, 277, 278, 279, 280, 281, 282, 283, 284, 285, 286, 287, 288, 289, 290, 291, 292, 293, 294, 295, 296, 297, 298, 299, 300, 301, 302, 303, 304, 305, 306, 307, 308, 309, 310, 311, 312, 313, 314, 315, 316, 317, 318, 319, 320, 321, 322, 323, 324, 325, 326, 327, 328, 329, 330, 331, 332, 333, 334, 335, 336, 337, 338, 339, 340, 341, 342, 343, 344, 345, 346, 347, 348, 349, 350, 351, 352, 353, 354, 355, 356, 357, 358, 359, 360, 361, 362, 363, 364, 365, 366, 367, 368, 369, 370, 371, 372, 373, 374, 375, 376, 377, 378, 379, 380, 381, 382, 383, 384, 385, 386, 387, 388, 389, 390, 391, 392, 393, 394, 395, 396, 397, 398, 399, 400, 401, 402, 403, 404, 405, 406, 407, 408, 409, 410, 411, 412, 413, 414, 415, 416, 417, 418, 419, 420, 421, 422, 423, 424, 425, 426, 427, 428, 429, 430, 431, 432, 433, 434, 435, 436, 437, 438, 439, 440, 441, 442, 443, 444, 445, 446, 447, 448, 449, 450, 451, 452, 453, 454, 455, 456, 457, 458, 459, 460, 461, 462, 463, 464, 465, 466, 467, 468, 469, 470, 471, 472, 473, 474, 475, 476, 477, 478, 479, 480, 481, 482, 483, 484, 485, 486, 487, 488, 489, 490, 491, 492, 493, 494, 495, 496, 497, 498, 499, 500, 501, 502, 503, 504, 505, 506, 507, 508, 509, 510, 511, 512, 513, 514, 515, 516, 517, 518, 519, 520, 521, 522, 523, 524, 525, 526, 527, 528, 529, 530, 531, 532, 533, 534, 535, 536, 537, 538, 539, 540, 541, 542, 543, 544, 545, 546, 547, 548, 549, 550, 551, 552, 553, 554, 555, 556, 557, 558, 559, 560, 561, 562, 563, 564, 565, 566, 567, 568, 569, 570, 571, 572, 573, 574, 575, 576, 577, 578, 579, 580, 581, 582, 583, 584, 585, 586, 587, 588, 589, 590, 591, 592, 593, 594, 595, 596, 597, 598, 599, 600, 601, 602, 603, 604, 605, 606, 607, 608, 609, 610, 611, 612, 613, 614, 615, 616, 617, 618, 619, 620, 621, 622, 623, 624, 625, 626, 627, 628, 629, 630, 631, 632, 633, 634, 635, 636, 637, 638, 639, 640, 641, 642, 643, 644, 645, 646, 647, 648, 649, 650, 651, 652, 653, 654, 655, 656, 657, 658, 659, 660, 661, 662, 663, 664, 665, 666, 667, 668, 669, 670, 671, 672, 673, 674, 675, 676, 677, 678, 679, 680, 681, 682, 683, 684, 685, 686, 687, 688, 689, 690, 691, 692, 693, 694, 695, 696, 697, 698, 699, 700, 701, 702, 703, 704, 705, 706, 707, 708, 709, 710, 711, 712, 713, 714, 715, 716, 717, 718, 719, 720, 721, 722, 723, 724, 725, 726, 727, 728, 729, 730, 731, 732, 733, 734, 735, 736, 737, 738, 739, 740, 741, 742, 743, 744, 745, 746, 747, 748, 749, 750, 751, 752, 753, 754, 755, 756, 757, 758, 759, 760, 761, 762, 763, 764, 765, 766, 767, 768, 769, 770, 771, 772, 773, 774, 775, 776, 777, 778, 779, 780, 781, 782, 783, 784, 785, 786, 787, 788, 789, 790, 791, 792, 793, 794, 795, 796, 797, 798, 799, 800, 801, 802, 803, 804, 805, 806, 807, 808, 809, 810, 811, 812, 813, 814, 815, 816, 817, 818, 819, 820, 821, 822, 823, 824, 825, 826, 827, 828, 829, 830, 831, 832, 833, 834, 835, 836, 837, 838, 839, 840, 841, 842, 843, 844, 845, 846, 847, 848, 849, 850, 851, 852, 853, 854, 855, 856, 857, 858, 859, 860, 861, 862, 863, 864, 865, 866, 867, 868, 869, 870, 871, 872, 873, 874, 875, 876, 877, 878, 879, 880, 881, 882, 883, 884, 885, 886, 887, 888, 889, 890]\n",
            "Tipos de datos:\n",
            " PassengerId      int64\n",
            "Survived         int64\n",
            "Pclass           int64\n",
            "Name            object\n",
            "Sex             object\n",
            "Age            float64\n",
            "SibSp            int64\n",
            "Parch            int64\n",
            "Ticket          object\n",
            "Fare           float64\n",
            "Cabin           object\n",
            "Embarked        object\n",
            "dtype: object\n",
            "Primeras 10 filas:\n",
            "    PassengerId  Survived  Pclass  \\\n",
            "0            1         0       3   \n",
            "1            2         1       1   \n",
            "2            3         1       3   \n",
            "3            4         1       1   \n",
            "4            5         0       3   \n",
            "5            6         0       3   \n",
            "6            7         0       1   \n",
            "7            8         0       3   \n",
            "8            9         1       3   \n",
            "9           10         1       2   \n",
            "\n",
            "                                                Name     Sex   Age  SibSp  \\\n",
            "0                            Braund, Mr. Owen Harris    male  22.0      1   \n",
            "1  Cumings, Mrs. John Bradley (Florence Briggs Th...  female  38.0      1   \n",
            "2                             Heikkinen, Miss. Laina  female  26.0      0   \n",
            "3       Futrelle, Mrs. Jacques Heath (Lily May Peel)  female  35.0      1   \n",
            "4                           Allen, Mr. William Henry    male  35.0      0   \n",
            "5                                   Moran, Mr. James    male   NaN      0   \n",
            "6                            McCarthy, Mr. Timothy J    male  54.0      0   \n",
            "7                     Palsson, Master. Gosta Leonard    male   2.0      3   \n",
            "8  Johnson, Mrs. Oscar W (Elisabeth Vilhelmina Berg)  female  27.0      0   \n",
            "9                Nasser, Mrs. Nicholas (Adele Achem)  female  14.0      1   \n",
            "\n",
            "   Parch            Ticket     Fare Cabin Embarked  \n",
            "0      0         A/5 21171   7.2500   NaN        S  \n",
            "1      0          PC 17599  71.2833   C85        C  \n",
            "2      0  STON/O2. 3101282   7.9250   NaN        S  \n",
            "3      0            113803  53.1000  C123        S  \n",
            "4      0            373450   8.0500   NaN        S  \n",
            "5      0            330877   8.4583   NaN        Q  \n",
            "6      0             17463  51.8625   E46        S  \n",
            "7      1            349909  21.0750   NaN        S  \n",
            "8      2            347742  11.1333   NaN        S  \n",
            "9      0            237736  30.0708   NaN        C  \n",
            "Últimas 10 filas:\n",
            "      PassengerId  Survived  Pclass                                      Name  \\\n",
            "881          882         0       3                        Markun, Mr. Johann   \n",
            "882          883         0       3              Dahlberg, Miss. Gerda Ulrika   \n",
            "883          884         0       2             Banfield, Mr. Frederick James   \n",
            "884          885         0       3                    Sutehall, Mr. Henry Jr   \n",
            "885          886         0       3      Rice, Mrs. William (Margaret Norton)   \n",
            "886          887         0       2                     Montvila, Rev. Juozas   \n",
            "887          888         1       1              Graham, Miss. Margaret Edith   \n",
            "888          889         0       3  Johnston, Miss. Catherine Helen \"Carrie\"   \n",
            "889          890         1       1                     Behr, Mr. Karl Howell   \n",
            "890          891         0       3                       Dooley, Mr. Patrick   \n",
            "\n",
            "        Sex   Age  SibSp  Parch            Ticket     Fare Cabin Embarked  \n",
            "881    male  33.0      0      0            349257   7.8958   NaN        S  \n",
            "882  female  22.0      0      0              7552  10.5167   NaN        S  \n",
            "883    male  28.0      0      0  C.A./SOTON 34068  10.5000   NaN        S  \n",
            "884    male  25.0      0      0   SOTON/OQ 392076   7.0500   NaN        S  \n",
            "885  female  39.0      0      5            382652  29.1250   NaN        Q  \n",
            "886    male  27.0      0      0            211536  13.0000   NaN        S  \n",
            "887  female  19.0      0      0            112053  30.0000   B42        S  \n",
            "888  female   NaN      1      2        W./C. 6607  23.4500   NaN        S  \n",
            "889    male  26.0      0      0            111369  30.0000  C148        C  \n",
            "890    male  32.0      0      0            370376   7.7500   NaN        Q  \n",
            "Pasajero con ID 148:\n",
            " PassengerId                                         149\n",
            "Survived                                              0\n",
            "Pclass                                                2\n",
            "Name           Navratil, Mr. Michel (\"Louis M Hoffman\")\n",
            "Sex                                                male\n",
            "Age                                                36.5\n",
            "SibSp                                                 0\n",
            "Parch                                                 2\n",
            "Ticket                                           230080\n",
            "Fare                                               26.0\n",
            "Cabin                                                F2\n",
            "Embarked                                              S\n",
            "Name: 148, dtype: object\n",
            "Filas pares:\n",
            "      PassengerId  Survived  Pclass  \\\n",
            "0              1         0       3   \n",
            "2              3         1       3   \n",
            "4              5         0       3   \n",
            "6              7         0       1   \n",
            "8              9         1       3   \n",
            "..           ...       ...     ...   \n",
            "882          883         0       3   \n",
            "884          885         0       3   \n",
            "886          887         0       2   \n",
            "888          889         0       3   \n",
            "890          891         0       3   \n",
            "\n",
            "                                                  Name     Sex   Age  SibSp  \\\n",
            "0                              Braund, Mr. Owen Harris    male  22.0      1   \n",
            "2                               Heikkinen, Miss. Laina  female  26.0      0   \n",
            "4                             Allen, Mr. William Henry    male  35.0      0   \n",
            "6                              McCarthy, Mr. Timothy J    male  54.0      0   \n",
            "8    Johnson, Mrs. Oscar W (Elisabeth Vilhelmina Berg)  female  27.0      0   \n",
            "..                                                 ...     ...   ...    ...   \n",
            "882                       Dahlberg, Miss. Gerda Ulrika  female  22.0      0   \n",
            "884                             Sutehall, Mr. Henry Jr    male  25.0      0   \n",
            "886                              Montvila, Rev. Juozas    male  27.0      0   \n",
            "888           Johnston, Miss. Catherine Helen \"Carrie\"  female   NaN      1   \n",
            "890                                Dooley, Mr. Patrick    male  32.0      0   \n",
            "\n",
            "     Parch            Ticket     Fare Cabin Embarked  \n",
            "0        0         A/5 21171   7.2500   NaN        S  \n",
            "2        0  STON/O2. 3101282   7.9250   NaN        S  \n",
            "4        0            373450   8.0500   NaN        S  \n",
            "6        0             17463  51.8625   E46        S  \n",
            "8        2            347742  11.1333   NaN        S  \n",
            "..     ...               ...      ...   ...      ...  \n",
            "882      0              7552  10.5167   NaN        S  \n",
            "884      0   SOTON/OQ 392076   7.0500   NaN        S  \n",
            "886      0            211536  13.0000   NaN        S  \n",
            "888      2        W./C. 6607  23.4500   NaN        S  \n",
            "890      0            370376   7.7500   NaN        Q  \n",
            "\n",
            "[446 rows x 12 columns]\n",
            "Personas en primera clase ordenadas alfabéticamente:\n",
            " 730                      Allen, Miss. Elisabeth Walton\n",
            "305                     Allison, Master. Hudson Trevor\n",
            "297                       Allison, Miss. Helen Loraine\n",
            "498    Allison, Mrs. Hudson J C (Bessie Waldo Daniels)\n",
            "460                                Anderson, Mr. Harry\n",
            "                            ...                       \n",
            "155                        Williams, Mr. Charles Duane\n",
            "351             Williams-Lambert, Mr. Fletcher Fellows\n",
            "55                                   Woolner, Mr. Hugh\n",
            "555                                 Wright, Mr. George\n",
            "325                           Young, Miss. Marie Grice\n",
            "Name: Name, Length: 216, dtype: object\n",
            "Porcentaje de personas que sobrevivieron y murieron:\n",
            " Survived\n",
            "0    61.616162\n",
            "1    38.383838\n",
            "Name: proportion, dtype: float64\n",
            "Porcentaje de supervivientes en cada clase:\n",
            " Pclass\n",
            "1    62.962963\n",
            "2    47.282609\n",
            "3    24.236253\n",
            "Name: Survived, dtype: float64\n",
            "Edad media de mujeres por clase:\n",
            " Pclass\n",
            "1    34.611765\n",
            "2    28.722973\n",
            "3    21.750000\n",
            "Name: Age, dtype: float64\n",
            "Porcentaje de menores y mayores que sobrevivieron en cada clase:\n",
            " Pclass  MenorEdad\n",
            "1       False        63.793103\n",
            "        True         91.666667\n",
            "2       False        41.333333\n",
            "        True         91.304348\n",
            "3       False        20.216606\n",
            "        True         37.179487\n",
            "Name: Survived, dtype: float64\n"
          ]
        }
      ]
    },
    {
      "cell_type": "markdown",
      "source": [
        "ejercicio 8"
      ],
      "metadata": {
        "id": "dKQQYqnImdTS"
      }
    },
    {
      "cell_type": "code",
      "source": [
        "df = pd.read_csv('misDatos.csv')\n",
        "\n",
        "columnas_actuales = df.columns.tolist()\n",
        "\n",
        "columnas_fijas = [col for col in ['ESTACION', 'MAGNITUD', 'AÑO', 'MES'] if col in columnas_actuales]\n",
        "columnas_dias = [col for col in columnas_actuales if col.startswith('D')]\n",
        "\n",
        "df_filtrado = df[columnas_fijas + columnas_dias]\n",
        "\n",
        "if 'DIA' not in df_filtrado.columns:\n",
        "    df_filtrado = df_filtrado.melt(id_vars=columnas_fijas, var_name='DIA', value_name='VALOR')\n",
        "    df_filtrado['DIA'] = df_filtrado['DIA'].str.extract('D(\\d+)').astype(int, errors='ignore')\n",
        "\n",
        "if all(col in df_filtrado.columns for col in ['AÑO', 'MES', 'DIA']):\n",
        "    df_filtrado['FECHA'] = pd.to_datetime(df_filtrado[['AÑO', 'MES', 'DIA']], errors='coerce')\n",
        "    df_filtrado = df_filtrado[~df_filtrado['FECHA'].isna()]\n",
        "    df_filtrado = df_filtrado.sort_values(['ESTACION', 'MAGNITUD', 'FECHA'])\n",
        "\n",
        "print(df_filtrado.head())\n",
        "\n",
        "\n"
      ],
      "metadata": {
        "colab": {
          "base_uri": "https://localhost:8080/"
        },
        "id": "rGuKQHPYmfhS",
        "outputId": "0f9f4c39-297a-495f-9b72-a99bc655b6f2"
      },
      "execution_count": 35,
      "outputs": [
        {
          "output_type": "stream",
          "name": "stdout",
          "text": [
            "Empty DataFrame\n",
            "Columns: [DIA, VALOR]\n",
            "Index: []\n"
          ]
        }
      ]
    }
  ]
}