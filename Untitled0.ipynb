{
  "nbformat": 4,
  "nbformat_minor": 0,
  "metadata": {
    "colab": {
      "provenance": [],
      "mount_file_id": "1kWROhujIjNZYnThUcyNjKvJR104RiJAT",
      "authorship_tag": "ABX9TyOGl5ZHOvlbFcWXvDheNCI2",
      "include_colab_link": true
    },
    "kernelspec": {
      "name": "python3",
      "display_name": "Python 3"
    },
    "language_info": {
      "name": "python"
    }
  },
  "cells": [
    {
      "cell_type": "markdown",
      "metadata": {
        "id": "view-in-github",
        "colab_type": "text"
      },
      "source": [
        "<a href=\"https://colab.research.google.com/github/Anthonylwz/cssma/blob/main/Untitled0.ipynb\" target=\"_parent\"><img src=\"https://colab.research.google.com/assets/colab-badge.svg\" alt=\"Open In Colab\"/></a>"
      ]
    },
    {
      "cell_type": "markdown",
      "source": [
        "Numpy, libreria de ciencia de datos"
      ],
      "metadata": {
        "id": "q0IK7Va7uHwV"
      }
    },
    {
      "cell_type": "code",
      "execution_count": 20,
      "metadata": {
        "id": "pUyCNvjttcYp"
      },
      "outputs": [],
      "source": [
        "import numpy as np\n",
        "#pip install numpy"
      ]
    },
    {
      "cell_type": "markdown",
      "source": [
        "array de 1 dimension"
      ],
      "metadata": {
        "id": "08OsxlD4wxnk"
      }
    },
    {
      "cell_type": "code",
      "source": [
        "array_1d=np.array((10,20,30))\n",
        "print(array_1d)"
      ],
      "metadata": {
        "colab": {
          "base_uri": "https://localhost:8080/"
        },
        "id": "mx39b2fvvqXF",
        "outputId": "64f4870a-3cab-4145-c470-a6841a8f654c"
      },
      "execution_count": 62,
      "outputs": [
        {
          "output_type": "stream",
          "name": "stdout",
          "text": [
            "[10 20 30]\n"
          ]
        }
      ]
    },
    {
      "cell_type": "code",
      "source": [
        "array_1d"
      ],
      "metadata": {
        "colab": {
          "base_uri": "https://localhost:8080/"
        },
        "id": "MhdZlgTzwc9t",
        "outputId": "d24b76fb-b24c-4aa6-f070-2708fd64514c"
      },
      "execution_count": 63,
      "outputs": [
        {
          "output_type": "execute_result",
          "data": {
            "text/plain": [
              "array([10, 20, 30])"
            ]
          },
          "metadata": {},
          "execution_count": 63
        }
      ]
    },
    {
      "cell_type": "markdown",
      "source": [
        "Array de 2 dimensiones\n"
      ],
      "metadata": {
        "id": "QPq8qFelwsG1"
      }
    },
    {
      "cell_type": "code",
      "source": [
        "array_2d=np.array([(10,20,30),(50,60,70)])\n",
        "array_2d"
      ],
      "metadata": {
        "colab": {
          "base_uri": "https://localhost:8080/"
        },
        "id": "muhfOuCfwooL",
        "outputId": "5e707909-8e8b-4641-9495-4b0e53880951"
      },
      "execution_count": 23,
      "outputs": [
        {
          "output_type": "execute_result",
          "data": {
            "text/plain": [
              "array([[10, 20, 30],\n",
              "       [50, 60, 70]])"
            ]
          },
          "metadata": {},
          "execution_count": 23
        }
      ]
    },
    {
      "cell_type": "markdown",
      "source": [
        "Array de 3 dimensiones"
      ],
      "metadata": {
        "id": "aV_wDWIezMNm"
      }
    },
    {
      "cell_type": "code",
      "source": [
        "array_3d=np.array([(10,30,40),(50,60,70),(80,90,100)], dtype =float)\n",
        "array_3d"
      ],
      "metadata": {
        "colab": {
          "base_uri": "https://localhost:8080/"
        },
        "id": "XqW5kHkAx-Ul",
        "outputId": "d09ac7bc-7a38-4657-97d9-62a761191444"
      },
      "execution_count": 24,
      "outputs": [
        {
          "output_type": "execute_result",
          "data": {
            "text/plain": [
              "array([[ 10.,  30.,  40.],\n",
              "       [ 50.,  60.,  70.],\n",
              "       [ 80.,  90., 100.]])"
            ]
          },
          "metadata": {},
          "execution_count": 24
        }
      ]
    },
    {
      "cell_type": "markdown",
      "source": [
        "Array con cerors de 3 filas y columnas\n"
      ],
      "metadata": {
        "id": "Fn_I-D4q4WeX"
      }
    },
    {
      "cell_type": "code",
      "source": [
        "np.zeros((3,4))"
      ],
      "metadata": {
        "colab": {
          "base_uri": "https://localhost:8080/"
        },
        "id": "3bc3Kzmr4cdf",
        "outputId": "afbf8d55-63e6-4878-99da-e0063bc9ca5c"
      },
      "execution_count": 25,
      "outputs": [
        {
          "output_type": "execute_result",
          "data": {
            "text/plain": [
              "array([[0., 0., 0., 0.],\n",
              "       [0., 0., 0., 0.],\n",
              "       [0., 0., 0., 0.]])"
            ]
          },
          "metadata": {},
          "execution_count": 25
        }
      ]
    },
    {
      "cell_type": "code",
      "source": [
        "print(np.zeros((4,5)))"
      ],
      "metadata": {
        "colab": {
          "base_uri": "https://localhost:8080/"
        },
        "id": "wNuChUxW4jrv",
        "outputId": "04bb2b5d-af26-4433-8dde-a9a4ed472251"
      },
      "execution_count": 26,
      "outputs": [
        {
          "output_type": "stream",
          "name": "stdout",
          "text": [
            "[[0. 0. 0. 0. 0.]\n",
            " [0. 0. 0. 0. 0.]\n",
            " [0. 0. 0. 0. 0.]\n",
            " [0. 0. 0. 0. 0.]]\n"
          ]
        }
      ]
    },
    {
      "cell_type": "markdown",
      "source": [
        "Array de unos y con 2 dimensiones 4 filas y 5 columnas"
      ],
      "metadata": {
        "id": "6sANFc4Q400X"
      }
    },
    {
      "cell_type": "code",
      "source": [
        "np.ones((2,4,5))"
      ],
      "metadata": {
        "colab": {
          "base_uri": "https://localhost:8080/"
        },
        "id": "qpDWNpSH4-HX",
        "outputId": "e9e3f387-5e31-498d-a8e8-05ee2d13baed"
      },
      "execution_count": 27,
      "outputs": [
        {
          "output_type": "execute_result",
          "data": {
            "text/plain": [
              "array([[[1., 1., 1., 1., 1.],\n",
              "        [1., 1., 1., 1., 1.],\n",
              "        [1., 1., 1., 1., 1.],\n",
              "        [1., 1., 1., 1., 1.]],\n",
              "\n",
              "       [[1., 1., 1., 1., 1.],\n",
              "        [1., 1., 1., 1., 1.],\n",
              "        [1., 1., 1., 1., 1.],\n",
              "        [1., 1., 1., 1., 1.]]])"
            ]
          },
          "metadata": {},
          "execution_count": 27
        }
      ]
    },
    {
      "cell_type": "markdown",
      "source": [
        "Arrays intervalos y saltos"
      ],
      "metadata": {
        "id": "jyL5u0_d5X9G"
      }
    },
    {
      "cell_type": "code",
      "source": [
        "np.arange(11,30,2)"
      ],
      "metadata": {
        "colab": {
          "base_uri": "https://localhost:8080/"
        },
        "id": "cwRetaFN5axH",
        "outputId": "939d7428-3366-41e1-a40f-c58b9b3ccc25"
      },
      "execution_count": 28,
      "outputs": [
        {
          "output_type": "execute_result",
          "data": {
            "text/plain": [
              "array([11, 13, 15, 17, 19, 21, 23, 25, 27, 29])"
            ]
          },
          "metadata": {},
          "execution_count": 28
        }
      ]
    },
    {
      "cell_type": "markdown",
      "source": [
        "Array con intervalos y divisiones\n"
      ],
      "metadata": {
        "id": "Entczuut78w4"
      }
    },
    {
      "cell_type": "code",
      "source": [
        "np.linspace(0,4,7)"
      ],
      "metadata": {
        "colab": {
          "base_uri": "https://localhost:8080/"
        },
        "id": "3QyM2paD8BKA",
        "outputId": "94e9576f-f371-4571-bdb3-fb94605476de"
      },
      "execution_count": 29,
      "outputs": [
        {
          "output_type": "execute_result",
          "data": {
            "text/plain": [
              "array([0.        , 0.66666667, 1.33333333, 2.        , 2.66666667,\n",
              "       3.33333333, 4.        ])"
            ]
          },
          "metadata": {},
          "execution_count": 29
        }
      ]
    },
    {
      "cell_type": "markdown",
      "source": [
        "Arrays con valores dados"
      ],
      "metadata": {
        "id": "4jC2T8-b8kVQ"
      }
    },
    {
      "cell_type": "markdown",
      "source": [
        "números primos 11 al 30"
      ],
      "metadata": {
        "id": "YHRRphs47Wkp"
      }
    },
    {
      "cell_type": "code",
      "source": [
        "np.full((3,3),7)"
      ],
      "metadata": {
        "colab": {
          "base_uri": "https://localhost:8080/"
        },
        "id": "3YYPz0-r8pMQ",
        "outputId": "82aeadc2-8022-4825-8176-b1bdc3f392f3"
      },
      "execution_count": 30,
      "outputs": [
        {
          "output_type": "execute_result",
          "data": {
            "text/plain": [
              "array([[7, 7, 7],\n",
              "       [7, 7, 7],\n",
              "       [7, 7, 7]])"
            ]
          },
          "metadata": {},
          "execution_count": 30
        }
      ]
    },
    {
      "cell_type": "markdown",
      "source": [
        "Array con matriz identidad, diagonal de unos"
      ],
      "metadata": {
        "id": "RByVnJj088xI"
      }
    },
    {
      "cell_type": "code",
      "source": [
        "np.eye(3)"
      ],
      "metadata": {
        "colab": {
          "base_uri": "https://localhost:8080/"
        },
        "id": "nJ-yVCyw9E0B",
        "outputId": "f49f2e09-5b20-42c4-cb29-a63a53c1b462"
      },
      "execution_count": 31,
      "outputs": [
        {
          "output_type": "execute_result",
          "data": {
            "text/plain": [
              "array([[1., 0., 0.],\n",
              "       [0., 1., 0.],\n",
              "       [0., 0., 1.]])"
            ]
          },
          "metadata": {},
          "execution_count": 31
        }
      ]
    },
    {
      "cell_type": "markdown",
      "source": [
        "Array valores Aletorios"
      ],
      "metadata": {
        "id": "s6uKNXeh-gch"
      }
    },
    {
      "cell_type": "code",
      "source": [
        "np.random.random((5,4))"
      ],
      "metadata": {
        "colab": {
          "base_uri": "https://localhost:8080/"
        },
        "id": "o3ZA2NYB-jMx",
        "outputId": "bcffc277-f3e5-4695-e2ec-ad5de638a31f"
      },
      "execution_count": 32,
      "outputs": [
        {
          "output_type": "execute_result",
          "data": {
            "text/plain": [
              "array([[0.22427513, 0.8185829 , 0.59601325, 0.17335236],\n",
              "       [0.53132843, 0.84154778, 0.60544078, 0.77270054],\n",
              "       [0.27896458, 0.57092147, 0.69575195, 0.13880172],\n",
              "       [0.83260906, 0.12338563, 0.31662342, 0.36102589],\n",
              "       [0.24371596, 0.07196885, 0.16905481, 0.55747915]])"
            ]
          },
          "metadata": {},
          "execution_count": 32
        }
      ]
    },
    {
      "cell_type": "markdown",
      "source": [
        "Array de numeros vacios 4/*3"
      ],
      "metadata": {
        "id": "rsUcOI6-_FJJ"
      }
    },
    {
      "cell_type": "code",
      "source": [
        "np.empty((4,3))"
      ],
      "metadata": {
        "colab": {
          "base_uri": "https://localhost:8080/"
        },
        "id": "Sk9FXZlM_Oo5",
        "outputId": "ed30052f-ee5b-4c03-8f98-cb2a48e5a68e"
      },
      "execution_count": 33,
      "outputs": [
        {
          "output_type": "execute_result",
          "data": {
            "text/plain": [
              "array([[0., 0., 0.],\n",
              "       [0., 0., 0.],\n",
              "       [0., 0., 0.],\n",
              "       [0., 0., 0.]])"
            ]
          },
          "metadata": {},
          "execution_count": 33
        }
      ]
    },
    {
      "cell_type": "markdown",
      "source": [
        "Grabar y cargar"
      ],
      "metadata": {
        "id": "eljbbDZ5BnbK"
      }
    },
    {
      "cell_type": "code",
      "source": [
        "#Grabar\n",
        "np.save(\"mi_array_3d\",array_3d)"
      ],
      "metadata": {
        "id": "k7yawlWUBsn6"
      },
      "execution_count": 34,
      "outputs": []
    },
    {
      "cell_type": "code",
      "source": [
        "#Cargar\n",
        "mi_array=np.load(\"mi_array_3d.npy\")\n",
        "mi_array"
      ],
      "metadata": {
        "colab": {
          "base_uri": "https://localhost:8080/"
        },
        "id": "Nwl9MGRDCljC",
        "outputId": "f3a5fa94-bd5e-4aad-885b-046ea0816d95"
      },
      "execution_count": 35,
      "outputs": [
        {
          "output_type": "execute_result",
          "data": {
            "text/plain": [
              "array([[ 10.,  30.,  40.],\n",
              "       [ 50.,  60.,  70.],\n",
              "       [ 80.,  90., 100.]])"
            ]
          },
          "metadata": {},
          "execution_count": 35
        }
      ]
    },
    {
      "cell_type": "code",
      "source": [
        "#Grabar\n",
        "np.save(\"array_2d\", array_2d)"
      ],
      "metadata": {
        "id": "LV2Vyu_3EF4y"
      },
      "execution_count": 36,
      "outputs": []
    },
    {
      "cell_type": "code",
      "source": [
        "#Cargar\n",
        "mi_array=np.load(\"array_2d.npy\")\n",
        "mi_array"
      ],
      "metadata": {
        "colab": {
          "base_uri": "https://localhost:8080/"
        },
        "id": "L9nq0iQjERuc",
        "outputId": "4acae509-456d-433b-fe78-3e1b53e6da8e"
      },
      "execution_count": 37,
      "outputs": [
        {
          "output_type": "execute_result",
          "data": {
            "text/plain": [
              "array([[10, 20, 30],\n",
              "       [50, 60, 70]])"
            ]
          },
          "metadata": {},
          "execution_count": 37
        }
      ]
    },
    {
      "cell_type": "markdown",
      "source": [
        "Grabar y cargar ficheros de texto"
      ],
      "metadata": {
        "id": "Hquch0geE4Px"
      }
    },
    {
      "cell_type": "code",
      "source": [
        "#grabar el fichero de texto\n",
        "np.savetxt(\"mi_array.txt\",array_2d, delimiter=\",\")"
      ],
      "metadata": {
        "id": "de5IHD6CE8NM"
      },
      "execution_count": 38,
      "outputs": []
    },
    {
      "cell_type": "code",
      "source": [
        "#cargar de fichero de texto\n",
        "np.loadtxt(\"mi_array.txt\", delimiter=\",\")"
      ],
      "metadata": {
        "colab": {
          "base_uri": "https://localhost:8080/"
        },
        "id": "ZLT1VNGSGKwb",
        "outputId": "bdc853c7-4050-47ed-f393-d83878000c73"
      },
      "execution_count": 39,
      "outputs": [
        {
          "output_type": "execute_result",
          "data": {
            "text/plain": [
              "array([[10., 20., 30.],\n",
              "       [50., 60., 70.]])"
            ]
          },
          "metadata": {},
          "execution_count": 39
        }
      ]
    },
    {
      "cell_type": "markdown",
      "source": [
        "ejercicio01"
      ],
      "metadata": {
        "id": "q8PuTQKnKgqN"
      }
    },
    {
      "cell_type": "code",
      "source": [
        "#grabar\n",
        "asignaturas = [\"Matemáticas\", \"Física\", \"Química\", \"Historia\", \"Lengua\"]\n",
        "np.save(\"ejercicios/ejercicio 01.npy\", asignaturas)"
      ],
      "metadata": {
        "id": "sHHnEmNYPtGe"
      },
      "execution_count": 40,
      "outputs": []
    },
    {
      "cell_type": "code",
      "source": [
        "#cargar\n",
        "np.load(\"ejercicios/ejercicio 01.npy\")"
      ],
      "metadata": {
        "id": "nkstRD2WQONO",
        "colab": {
          "base_uri": "https://localhost:8080/"
        },
        "outputId": "e89796a7-5f59-479d-bac7-1c01d4b6864a"
      },
      "execution_count": 41,
      "outputs": [
        {
          "output_type": "execute_result",
          "data": {
            "text/plain": [
              "array(['Matemáticas', 'Física', 'Química', 'Historia', 'Lengua'],\n",
              "      dtype='<U11')"
            ]
          },
          "metadata": {},
          "execution_count": 41
        }
      ]
    },
    {
      "cell_type": "markdown",
      "source": [
        "ejercicio 02"
      ],
      "metadata": {
        "id": "qNLMHSUoRlD2"
      }
    },
    {
      "cell_type": "code",
      "source": [
        "materias = [\"Matemáticas\", \"Física\", \"Química\", \"Historia\", \"Lengua\"]\n",
        "np.save(\"ejercicios/ejercicio02.npy\", materias)"
      ],
      "metadata": {
        "id": "AjxI5zEQRnJm"
      },
      "execution_count": 42,
      "outputs": []
    },
    {
      "cell_type": "code",
      "source": [
        "np.load(\"ejercicios/ejercicio02.npy\")\n",
        "for m in materias:\n",
        "    print(f\"Yo estudio {m}\")"
      ],
      "metadata": {
        "colab": {
          "base_uri": "https://localhost:8080/"
        },
        "id": "PGWawJrHTbF3",
        "outputId": "70c4844e-d16a-4846-8467-45afe714fa91"
      },
      "execution_count": 43,
      "outputs": [
        {
          "output_type": "stream",
          "name": "stdout",
          "text": [
            "Yo estudio Matemáticas\n",
            "Yo estudio Física\n",
            "Yo estudio Química\n",
            "Yo estudio Historia\n",
            "Yo estudio Lengua\n"
          ]
        }
      ]
    },
    {
      "cell_type": "markdown",
      "source": [
        "ejercicio 03"
      ],
      "metadata": {
        "id": "Pie62HD_VSXf"
      }
    },
    {
      "cell_type": "code",
      "source": [
        "#grabar\n",
        "asignaturas = [\"Matemáticas\", \"Física\", \"Química\", \"Historia\", \"Lengua\"]\n",
        "np.save(\"ejercicios/ejercicio_03.npy\", asignaturas)"
      ],
      "metadata": {
        "id": "9Aeg4aQbW-xf"
      },
      "execution_count": 44,
      "outputs": []
    },
    {
      "cell_type": "code",
      "source": [
        "112#cargar\n",
        "asignaturas = np.load(\"ejercicios/ejercicio_03.npy\")\n",
        "for asignatura in asignaturas:\n",
        "    nota = input(f\"¿Qué nota sacaste en {asignatura}? \")\n",
        "    print(f\"En {asignatura} has sacado {nota}\")\n"
      ],
      "metadata": {
        "colab": {
          "base_uri": "https://localhost:8080/"
        },
        "id": "2NRm7basX6XA",
        "outputId": "dba42374-fdde-4d0e-ddbd-d0e3b8022052"
      },
      "execution_count": 45,
      "outputs": [
        {
          "output_type": "stream",
          "name": "stdout",
          "text": [
            "¿Qué nota sacaste en Matemáticas? 12\n",
            "En Matemáticas has sacado 12\n",
            "¿Qué nota sacaste en Física? 12\n",
            "En Física has sacado 12\n",
            "¿Qué nota sacaste en Química? 12\n",
            "En Química has sacado 12\n",
            "¿Qué nota sacaste en Historia? 12\n",
            "En Historia has sacado 12\n",
            "¿Qué nota sacaste en Lengua? 12\n",
            "En Lengua has sacado 12\n"
          ]
        }
      ]
    },
    {
      "cell_type": "markdown",
      "source": [
        "Ejercicio 04"
      ],
      "metadata": {
        "id": "O5S4pyaAaNA4"
      }
    },
    {
      "cell_type": "code",
      "source": [
        "#grabar\n",
        "import numpy as np\n",
        "ganadores = []\n",
        "for i in range(6):\n",
        "    numero = int(input(f\"Introduce el número ganador {i+1}: \"))\n",
        "    ganadores.append(numero)\n",
        "np.save(\"ejercicios/ejercicio_04.npy\", np.array(ganadores))\n",
        "\n"
      ],
      "metadata": {
        "id": "hJxr1taqemzS",
        "outputId": "cbb28162-a419-471d-dab7-071719e700e1",
        "colab": {
          "base_uri": "https://localhost:8080/"
        }
      },
      "execution_count": 46,
      "outputs": [
        {
          "name": "stdout",
          "output_type": "stream",
          "text": [
            "Introduce el número ganador 1: 12\n",
            "Introduce el número ganador 2: 12\n",
            "Introduce el número ganador 3: 12\n",
            "Introduce el número ganador 4: 12\n",
            "Introduce el número ganador 5: 12\n",
            "Introduce el número ganador 6: 12\n"
          ]
        }
      ]
    },
    {
      "cell_type": "code",
      "source": [
        "#cargar\n",
        "import numpy as np\n",
        "ganadores = np.load(\"ejercicios/ejercicio_04.npy\")\n",
        "ganadores_ordenados = np.sort(ganadores)\n",
        "print(\"Números ganadores ordenados:\", \", \".join(str(n) for n in ganadores_ordenados))\n"
      ],
      "metadata": {
        "id": "a8CpFALAenhB",
        "colab": {
          "base_uri": "https://localhost:8080/"
        },
        "outputId": "def04be0-faec-4f07-d982-0ae1b5f8ef96"
      },
      "execution_count": 47,
      "outputs": [
        {
          "output_type": "stream",
          "name": "stdout",
          "text": [
            "Números ganadores ordenados: 12, 12, 12, 12, 12, 12\n"
          ]
        }
      ]
    },
    {
      "cell_type": "markdown",
      "source": [
        "Ejercicio 05"
      ],
      "metadata": {
        "id": "63WWBVSsbMgv"
      }
    },
    {
      "cell_type": "code",
      "source": [
        "#  grabar\n",
        "import numpy as np\n",
        "\n",
        "numeros = list(range(1, 11))\n",
        "np.save(\"ejercicios/ejercicio_05.npy\", numeros)\n"
      ],
      "metadata": {
        "id": "i53AHMStbQkg"
      },
      "execution_count": 48,
      "outputs": []
    },
    {
      "cell_type": "code",
      "source": [
        "#  cargar\n",
        "import numpy as np\n",
        "numeros = np.load(\"ejercicios/ejercicio_05.npy\")\n",
        "print(\"Números en orden inverso:\")\n",
        "print(\", \".join(str(n) for n in reversed(numeros)))\n"
      ],
      "metadata": {
        "colab": {
          "base_uri": "https://localhost:8080/"
        },
        "id": "xlE4YIpSfnBC",
        "outputId": "48f58d87-8974-4c24-b70f-6a5588510f9c"
      },
      "execution_count": 49,
      "outputs": [
        {
          "output_type": "stream",
          "name": "stdout",
          "text": [
            "Números en orden inverso:\n",
            "10, 9, 8, 7, 6, 5, 4, 3, 2, 1\n"
          ]
        }
      ]
    },
    {
      "cell_type": "markdown",
      "source": [
        "Ejercicio 06"
      ],
      "metadata": {
        "id": "joS4KL3sgaPR"
      }
    },
    {
      "cell_type": "code",
      "source": [
        "# grabar\n",
        "import numpy as np\n",
        "asignaturas = [\"Matemáticas\", \"Física\", \"Química\", \"Historia\", \"Lengua\"]\n",
        "np.save(\"ejercicios/ejercicio_06.npy\", asignaturas)\n"
      ],
      "metadata": {
        "id": "SjPU0tsDgcVx"
      },
      "execution_count": 50,
      "outputs": []
    },
    {
      "cell_type": "code",
      "source": [
        "# cargar\n",
        "import numpy as np\n",
        "asignaturas = np.load(\"ejercicios/ejercicio_06.npy\")\n",
        "suspendidas = []\n",
        "for asignatura in asignaturas:\n",
        "    nota = float(input(f\"¿Qué nota sacaste en {asignatura}? \"))\n",
        "    if nota < 5:\n",
        "        suspendidas.append(asignatura)\n",
        "print(\"Tienes que repetir:\", \", \".join(suspendidas))\n"
      ],
      "metadata": {
        "colab": {
          "base_uri": "https://localhost:8080/"
        },
        "id": "mlHhPkp_gzq5",
        "outputId": "504df5ab-37bf-4800-fcf8-b2c5fb98c452"
      },
      "execution_count": 51,
      "outputs": [
        {
          "output_type": "stream",
          "name": "stdout",
          "text": [
            "¿Qué nota sacaste en Matemáticas? 12\n",
            "¿Qué nota sacaste en Física? 12\n",
            "¿Qué nota sacaste en Química? 12\n",
            "¿Qué nota sacaste en Historia? 12\n",
            "¿Qué nota sacaste en Lengua? 12\n",
            "Tienes que repetir: \n"
          ]
        }
      ]
    },
    {
      "cell_type": "markdown",
      "source": [
        "Ejercicio 07"
      ],
      "metadata": {
        "id": "6FzB6FJog9E5"
      }
    },
    {
      "cell_type": "code",
      "source": [
        "# grabar\n",
        "import numpy as np\n",
        "import string\n",
        "\n",
        "abecedario = list(string.ascii_lowercase)\n",
        "np.save(\"ejercicios/ejercicio_07.npy\", np.array(abecedario))\n"
      ],
      "metadata": {
        "id": "UztvAPIMh9oK"
      },
      "execution_count": 58,
      "outputs": []
    },
    {
      "cell_type": "code",
      "source": [
        "#  cargar\n",
        "import numpy as np\n",
        "\n",
        "abecedario = np.load(\"ejercicios/ejercicio_07.npy\")\n",
        "\n",
        "resultado = [letra for i, letra in enumerate(abecedario) if (i + 1) % 3 != 0]\n",
        "\n",
        "print(\", \".join(resultado))\n"
      ],
      "metadata": {
        "colab": {
          "base_uri": "https://localhost:8080/"
        },
        "id": "gaSXKLj_iB_Z",
        "outputId": "b367b54f-a7e7-454c-b45a-1d6227e28915"
      },
      "execution_count": 59,
      "outputs": [
        {
          "output_type": "stream",
          "name": "stdout",
          "text": [
            "a, b, d, e, g, h, j, k, m, n, p, q, s, t, v, w, y, z\n"
          ]
        }
      ]
    },
    {
      "cell_type": "markdown",
      "source": [
        "Ejercicio 8"
      ],
      "metadata": {
        "id": "f643msk2iFuB"
      }
    },
    {
      "cell_type": "code",
      "source": [
        "# grabar\n",
        "import numpy as np\n",
        "\n",
        "palabra = input(\"Introduce una palabra: \")\n",
        "np.save(\"ejercicios/ejercicio_08.npy\", np.array([palabra]))\n"
      ],
      "metadata": {
        "colab": {
          "base_uri": "https://localhost:8080/"
        },
        "id": "yzhymoA9iHeZ",
        "outputId": "f7d0551b-4f4f-470a-ea63-4f5d237f5b6b"
      },
      "execution_count": 60,
      "outputs": [
        {
          "name": "stdout",
          "output_type": "stream",
          "text": [
            "Introduce una palabra: hola\n"
          ]
        }
      ]
    },
    {
      "cell_type": "code",
      "source": [
        "# cargar\n",
        "import numpy as np\n",
        "\n",
        "palabra = np.load(\"ejercicios/ejercicio_08.npy\")[0]\n",
        "\n",
        "if palabra == palabra[::-1]:\n",
        "    print(\"La palabra es un palíndromo.\")\n",
        "else:\n",
        "    print(\"La palabra no es un palíndromo.\")\n"
      ],
      "metadata": {
        "colab": {
          "base_uri": "https://localhost:8080/"
        },
        "id": "xwKqvP73iRbS",
        "outputId": "b679b726-cf24-4ce9-ef9e-b70a802d6188"
      },
      "execution_count": 84,
      "outputs": [
        {
          "output_type": "stream",
          "name": "stdout",
          "text": [
            "La palabra no es un palíndromo.\n"
          ]
        }
      ]
    },
    {
      "cell_type": "markdown",
      "source": [
        "Ejercicio 9"
      ],
      "metadata": {
        "id": "cY_rXnw0iXJB"
      }
    },
    {
      "cell_type": "code",
      "source": [
        "# grabar\n",
        "import numpy as np\n",
        "\n",
        "palabra = input(\"Introduce una palabra: \").lower()\n",
        "np.save(\"ejercicios/ejercicio_09.npy\", np.array([palabra]))\n"
      ],
      "metadata": {
        "colab": {
          "base_uri": "https://localhost:8080/"
        },
        "id": "Qtlu6wN4iaKr",
        "outputId": "77f00401-0c16-4e88-d16f-2b92a18e18b7"
      },
      "execution_count": 64,
      "outputs": [
        {
          "name": "stdout",
          "output_type": "stream",
          "text": [
            "Introduce una palabra: love\n"
          ]
        }
      ]
    },
    {
      "cell_type": "code",
      "source": [
        "# cargar\n",
        "import numpy as np\n",
        "palabra = np.load(\"ejercicios/ejercicio_09.npy\")[0]\n",
        "vocales = \"aeiou\"\n",
        "for vocal in vocales:\n",
        "    print(f\"{vocal}: {palabra.count(vocal)}\")\n"
      ],
      "metadata": {
        "colab": {
          "base_uri": "https://localhost:8080/"
        },
        "id": "XLHS-po7irya",
        "outputId": "70c4b705-92ad-4fc8-b1f7-843b2fb97a69"
      },
      "execution_count": 65,
      "outputs": [
        {
          "output_type": "stream",
          "name": "stdout",
          "text": [
            "a: 0\n",
            "e: 1\n",
            "i: 0\n",
            "o: 1\n",
            "u: 0\n"
          ]
        }
      ]
    },
    {
      "cell_type": "markdown",
      "source": [
        "Ejercicio 10"
      ],
      "metadata": {
        "id": "OrAw7S1liu8p"
      }
    },
    {
      "cell_type": "code",
      "source": [
        "# grabar\n",
        "import numpy as np\n",
        "precios = [50, 75, 46, 22, 80, 65, 8]\n",
        "np.save(\"ejercicios/ejercicio_10.npy\", np.array(precios))\n"
      ],
      "metadata": {
        "id": "2tUo9jcYiwYl"
      },
      "execution_count": 68,
      "outputs": []
    },
    {
      "cell_type": "code",
      "source": [
        "# cargar\n",
        "import numpy as np\n",
        "precios = np.load(\"ejercicios/ejercicio_10.npy\")\n",
        "\n",
        "print(\"Menor precio:\", min(precios))\n",
        "print(\"Mayor precio:\", max(precios))\n"
      ],
      "metadata": {
        "colab": {
          "base_uri": "https://localhost:8080/"
        },
        "id": "gzwEv8C9jVsj",
        "outputId": "40ae2e59-b49d-4fc5-9069-fa5dedc296e2"
      },
      "execution_count": 69,
      "outputs": [
        {
          "output_type": "stream",
          "name": "stdout",
          "text": [
            "Menor precio: 8\n",
            "Mayor precio: 80\n"
          ]
        }
      ]
    },
    {
      "cell_type": "markdown",
      "source": [
        "Ejercicio 11"
      ],
      "metadata": {
        "id": "Vr_C48_wjslS"
      }
    },
    {
      "cell_type": "code",
      "source": [
        "# grabar\n",
        "import numpy as np\n",
        "vector1 = [1, 2, 3]\n",
        "vector2 = [-1, 0, 2]\n",
        "np.save(\"ejercicios/ejercicio_11_vector1.npy\", np.array(vector1))\n",
        "np.save(\"ejercicios/ejercicio_11_vector2.npy\", np.array(vector2))\n"
      ],
      "metadata": {
        "id": "JbAbxkxNjxMh"
      },
      "execution_count": 72,
      "outputs": []
    },
    {
      "cell_type": "code",
      "source": [
        "#  cargar\n",
        "import numpy as np\n",
        "vector1 = np.load(\"ejercicios/ejercicio_11_vector1.npy\")\n",
        "vector2 = np.load(\"ejercicios/ejercicio_11_vector2.npy\")\n",
        "\n",
        "producto_escalar = np.dot(vector1, vector2)\n",
        "\n",
        "print(\"Producto escalar:\", producto_escalar)\n"
      ],
      "metadata": {
        "colab": {
          "base_uri": "https://localhost:8080/"
        },
        "id": "qJmXCOknj3A6",
        "outputId": "bfaea561-1d6d-4186-c34f-564a63b74bbe"
      },
      "execution_count": 73,
      "outputs": [
        {
          "output_type": "stream",
          "name": "stdout",
          "text": [
            "Producto escalar: 5\n"
          ]
        }
      ]
    },
    {
      "cell_type": "markdown",
      "source": [
        "Ejercicio 12"
      ],
      "metadata": {
        "id": "RmT1V_NGj5gY"
      }
    },
    {
      "cell_type": "code",
      "source": [
        "# grabar\n",
        "import numpy as np\n",
        "matriz1 = [[1, 2], [3, 4]]\n",
        "matriz2 = [[5, 6], [7, 8]]\n",
        "np.save(\"ejercicios/ejercicio_12_matriz1.npy\", np.array(matriz1))\n",
        "np.save(\"ejercicios/ejercicio_12_matriz2.npy\", np.array(matriz2))\n"
      ],
      "metadata": {
        "id": "BnJnkceMj675"
      },
      "execution_count": 74,
      "outputs": []
    },
    {
      "cell_type": "code",
      "source": [
        "#  cargar\n",
        "import numpy as np\n",
        "matriz1 = np.load(\"ejercicios/ejercicio_12_matriz1.npy\")\n",
        "matriz2 = np.load(\"ejercicios/ejercicio_12_matriz2.npy\")\n",
        "producto = np.dot(matriz1, matriz2)\n",
        "\n",
        "print(\"Producto de las matrices:\")\n",
        "print(producto)\n"
      ],
      "metadata": {
        "colab": {
          "base_uri": "https://localhost:8080/"
        },
        "id": "9WB3V4wfkBUZ",
        "outputId": "5a7de8d8-b682-40cc-da34-8d2cae6def7d"
      },
      "execution_count": 75,
      "outputs": [
        {
          "output_type": "stream",
          "name": "stdout",
          "text": [
            "Producto de las matrices:\n",
            "[[19 22]\n",
            " [43 50]]\n"
          ]
        }
      ]
    },
    {
      "cell_type": "markdown",
      "source": [
        "Ejercicio 13"
      ],
      "metadata": {
        "id": "NFROv5_3kD2Z"
      }
    },
    {
      "cell_type": "code",
      "source": [
        "# grabar\n",
        "import numpy as np\n",
        "entrada = input(\"Introduce números separados por comas: \")\n",
        "numeros = [float(x.strip()) for x in entrada.split(\",\")]\n",
        "np.save(\"ejercicios/ejercicio_13.npy\", np.array(numeros, dtype=float))\n"
      ],
      "metadata": {
        "colab": {
          "base_uri": "https://localhost:8080/"
        },
        "id": "q7tkXCB9kGDB",
        "outputId": "a8422044-7e72-48f3-e64d-edc4ed1f2dc6"
      },
      "execution_count": 79,
      "outputs": [
        {
          "name": "stdout",
          "output_type": "stream",
          "text": [
            "Introduce números separados por comas: 1,2,4\n"
          ]
        }
      ]
    },
    {
      "cell_type": "code",
      "source": [
        "# cargar\n",
        "import numpy as np\n",
        "numeros = np.load(\"ejercicios/ejercicio_13.npy\")\n",
        "media = np.mean(numeros)\n",
        "desviacion = np.std(numeros)\n",
        "print(\"Media:\", round(media, 2))\n",
        "print(\"Desviación típica:\", round(desviacion, 2))\n"
      ],
      "metadata": {
        "colab": {
          "base_uri": "https://localhost:8080/"
        },
        "id": "jZbK1KZEkMQy",
        "outputId": "6c17033c-f127-40cc-84b6-6a9fafef7f2b"
      },
      "execution_count": 80,
      "outputs": [
        {
          "output_type": "stream",
          "name": "stdout",
          "text": [
            "Media: 2.33\n",
            "Desviación típica: 1.25\n"
          ]
        }
      ]
    },
    {
      "cell_type": "markdown",
      "source": [
        "Tipos de datos"
      ],
      "metadata": {
        "id": "HcKmWutVhK1x"
      }
    },
    {
      "cell_type": "code",
      "source": [
        "#Enteros\n",
        "np.int64"
      ],
      "metadata": {
        "colab": {
          "base_uri": "https://localhost:8080/"
        },
        "id": "5PkENUsUhNjZ",
        "outputId": "22e85908-a4d4-4ac8-d822-24e23e1dc679"
      },
      "execution_count": 52,
      "outputs": [
        {
          "output_type": "execute_result",
          "data": {
            "text/plain": [
              "numpy.int64"
            ]
          },
          "metadata": {},
          "execution_count": 52
        }
      ]
    },
    {
      "cell_type": "code",
      "source": [
        "#Decimal, Flotantes\n",
        "np.float64"
      ],
      "metadata": {
        "colab": {
          "base_uri": "https://localhost:8080/"
        },
        "id": "1qb7DXxJhS8Z",
        "outputId": "e3bbb76b-7ca5-4c02-ed05-0f113e0d3754"
      },
      "execution_count": 53,
      "outputs": [
        {
          "output_type": "execute_result",
          "data": {
            "text/plain": [
              "numpy.float64"
            ]
          },
          "metadata": {},
          "execution_count": 53
        }
      ]
    },
    {
      "cell_type": "code",
      "source": [
        "#Complejos\n",
        "np.complex64"
      ],
      "metadata": {
        "colab": {
          "base_uri": "https://localhost:8080/"
        },
        "id": "pCrTlEE4iyXa",
        "outputId": "5f44cfe1-678d-470d-a1f8-7823c0671f3d"
      },
      "execution_count": 70,
      "outputs": [
        {
          "output_type": "execute_result",
          "data": {
            "text/plain": [
              "numpy.complex64"
            ]
          },
          "metadata": {},
          "execution_count": 70
        }
      ]
    },
    {
      "cell_type": "code",
      "source": [
        "#Boleanos\n",
        "np-np.bool_"
      ],
      "metadata": {
        "id": "NHnLaNz-jdJJ"
      },
      "execution_count": null,
      "outputs": []
    },
    {
      "cell_type": "code",
      "source": [
        "#Obejtos\n",
        "np.object_"
      ],
      "metadata": {
        "colab": {
          "base_uri": "https://localhost:8080/"
        },
        "id": "Rah9N5DMl50Z",
        "outputId": "8543d1b7-fca0-4a95-dfb2-348970fc02a8"
      },
      "execution_count": 81,
      "outputs": [
        {
          "output_type": "execute_result",
          "data": {
            "text/plain": [
              "numpy.object_"
            ]
          },
          "metadata": {},
          "execution_count": 81
        }
      ]
    },
    {
      "cell_type": "code",
      "source": [
        "#cadenas de texto\n",
        "np.strings"
      ],
      "metadata": {
        "colab": {
          "base_uri": "https://localhost:8080/"
        },
        "id": "P0lkpH0vl_s7",
        "outputId": "5a217ee5-b5bf-40cc-8719-365ba62e61c5"
      },
      "execution_count": 82,
      "outputs": [
        {
          "output_type": "execute_result",
          "data": {
            "text/plain": [
              "<module 'numpy.strings' from '/usr/local/lib/python3.11/dist-packages/numpy/strings/__init__.py'>"
            ]
          },
          "metadata": {},
          "execution_count": 82
        }
      ]
    },
    {
      "cell_type": "code",
      "source": [
        "np.bytes_"
      ],
      "metadata": {
        "colab": {
          "base_uri": "https://localhost:8080/"
        },
        "id": "zwIwO_tsmIgj",
        "outputId": "05cf6435-29f3-42e6-81fc-4c2640f0a2f5"
      },
      "execution_count": 83,
      "outputs": [
        {
          "output_type": "execute_result",
          "data": {
            "text/plain": [
              "numpy.bytes_"
            ]
          },
          "metadata": {},
          "execution_count": 83
        }
      ]
    },
    {
      "cell_type": "markdown",
      "source": [
        "Propiedades Y Caracteristicas Deentro de un Entornos Especificos"
      ],
      "metadata": {
        "id": "VbJaWp73muxa"
      }
    },
    {
      "cell_type": "code",
      "source": [
        "array_3d"
      ],
      "metadata": {
        "colab": {
          "base_uri": "https://localhost:8080/"
        },
        "id": "Jv3eCnIom4fy",
        "outputId": "b6b3fe2b-51af-4e73-f16e-3299092a201f"
      },
      "execution_count": 85,
      "outputs": [
        {
          "output_type": "execute_result",
          "data": {
            "text/plain": [
              "array([[ 10.,  30.,  40.],\n",
              "       [ 50.,  60.,  70.],\n",
              "       [ 80.,  90., 100.]])"
            ]
          },
          "metadata": {},
          "execution_count": 85
        }
      ]
    },
    {
      "cell_type": "code",
      "source": [
        "array_3d.shape"
      ],
      "metadata": {
        "colab": {
          "base_uri": "https://localhost:8080/"
        },
        "id": "v131g5XpnWQ9",
        "outputId": "844bd132-2364-4578-db9a-85d1b0c532da"
      },
      "execution_count": 86,
      "outputs": [
        {
          "output_type": "execute_result",
          "data": {
            "text/plain": [
              "(3, 3)"
            ]
          },
          "metadata": {},
          "execution_count": 86
        }
      ]
    },
    {
      "cell_type": "code",
      "source": [
        "#Longitudes\n",
        "len(array_3d)"
      ],
      "metadata": {
        "colab": {
          "base_uri": "https://localhost:8080/"
        },
        "id": "Bkpf9VgvnpXK",
        "outputId": "c8f31527-4c63-4307-d274-9ed75505b3a8"
      },
      "execution_count": 111,
      "outputs": [
        {
          "output_type": "execute_result",
          "data": {
            "text/plain": [
              "3"
            ]
          },
          "metadata": {},
          "execution_count": 111
        }
      ]
    },
    {
      "cell_type": "code",
      "source": [
        "#numero de Dimensiones\n",
        "array_3d.ndim"
      ],
      "metadata": {
        "colab": {
          "base_uri": "https://localhost:8080/"
        },
        "id": "yKMY3UPjoLWJ",
        "outputId": "d78a715b-87f3-4a6e-f6c3-d40d333a40f1"
      },
      "execution_count": 121,
      "outputs": [
        {
          "output_type": "execute_result",
          "data": {
            "text/plain": [
              "2"
            ]
          },
          "metadata": {},
          "execution_count": 121
        }
      ]
    },
    {
      "cell_type": "code",
      "source": [
        "#Convertir de un dato a otro\n",
        "array_3d.astype(int)"
      ],
      "metadata": {
        "colab": {
          "base_uri": "https://localhost:8080/"
        },
        "id": "EqLIBlnwtDcb",
        "outputId": "c5f942f1-9fe3-4713-809b-5f260f343341"
      },
      "execution_count": 107,
      "outputs": [
        {
          "output_type": "execute_result",
          "data": {
            "text/plain": [
              "array([[ 10,  30,  40],\n",
              "       [ 50,  60,  70],\n",
              "       [ 80,  90, 100]])"
            ]
          },
          "metadata": {},
          "execution_count": 107
        }
      ]
    },
    {
      "cell_type": "markdown",
      "source": [
        "Operadores Matemáticos"
      ],
      "metadata": {
        "id": "U2fla6OPt9v1"
      }
    },
    {
      "cell_type": "code",
      "source": [
        "array_1d"
      ],
      "metadata": {
        "colab": {
          "base_uri": "https://localhost:8080/"
        },
        "id": "mLOIq7uDuD18",
        "outputId": "14258b31-2e39-4ee1-c622-1a2f0e73fcd4"
      },
      "execution_count": 122,
      "outputs": [
        {
          "output_type": "execute_result",
          "data": {
            "text/plain": [
              "array([10, 20, 30])"
            ]
          },
          "metadata": {},
          "execution_count": 122
        }
      ]
    },
    {
      "cell_type": "code",
      "source": [
        "#arrat de ejemplos\n",
        "array2=np.random.random((4,4))\n",
        "array2"
      ],
      "metadata": {
        "colab": {
          "base_uri": "https://localhost:8080/"
        },
        "id": "IkVOPjLDukUL",
        "outputId": "90de68e7-fd60-410e-a864-356b322cf23e"
      },
      "execution_count": 124,
      "outputs": [
        {
          "output_type": "execute_result",
          "data": {
            "text/plain": [
              "array([[0.99183974, 0.07090715, 0.36359922, 0.62091443],\n",
              "       [0.37353279, 0.04410686, 0.18901168, 0.52629628],\n",
              "       [0.78080121, 0.31946425, 0.48021266, 0.96292445],\n",
              "       [0.23196294, 0.89214132, 0.70280671, 0.67263651]])"
            ]
          },
          "metadata": {},
          "execution_count": 124
        }
      ]
    },
    {
      "cell_type": "code",
      "source": [
        "array3=np.random.random((4,4))\n",
        "array3"
      ],
      "metadata": {
        "colab": {
          "base_uri": "https://localhost:8080/"
        },
        "id": "0RjB0eVxuzYj",
        "outputId": "295730c0-4292-48c2-9d47-fd013fa30c2e"
      },
      "execution_count": 125,
      "outputs": [
        {
          "output_type": "execute_result",
          "data": {
            "text/plain": [
              "array([[0.31987633, 0.35960043, 0.96778883, 0.32082237],\n",
              "       [0.67030138, 0.49630712, 0.80870523, 0.93269197],\n",
              "       [0.46460924, 0.06691582, 0.49303   , 0.97568962],\n",
              "       [0.43027709, 0.58077793, 0.71003043, 0.70023928]])"
            ]
          },
          "metadata": {},
          "execution_count": 125
        }
      ]
    },
    {
      "cell_type": "code",
      "source": [
        "#Suma\n",
        "array4=(array2+array3)\n",
        "array4"
      ],
      "metadata": {
        "colab": {
          "base_uri": "https://localhost:8080/"
        },
        "id": "kSwEvL4JvCSy",
        "outputId": "85fe2593-1303-4d31-9cbf-cadaa477384b"
      },
      "execution_count": 126,
      "outputs": [
        {
          "output_type": "execute_result",
          "data": {
            "text/plain": [
              "array([[1.31171607, 0.43050757, 1.33138805, 0.9417368 ],\n",
              "       [1.04383417, 0.54041398, 0.99771691, 1.45898825],\n",
              "       [1.24541045, 0.38638007, 0.97324267, 1.93861407],\n",
              "       [0.66224003, 1.47291925, 1.41283713, 1.37287579]])"
            ]
          },
          "metadata": {},
          "execution_count": 126
        }
      ]
    },
    {
      "cell_type": "code",
      "source": [
        "#otra forma para sumar\n",
        "array4=np.add(array1,array2,array3)\n",
        "array4"
      ],
      "metadata": {
        "colab": {
          "base_uri": "https://localhost:8080/"
        },
        "id": "qBzL-ZtZvY7r",
        "outputId": "e8c5bc1a-c720-4d1b-f879-69a3d927131e"
      },
      "execution_count": 127,
      "outputs": [
        {
          "output_type": "execute_result",
          "data": {
            "text/plain": [
              "array([[1.56891503, 0.65140841, 1.00324605, 1.01371293],\n",
              "       [0.84997245, 0.71856397, 0.63931397, 1.01804194],\n",
              "       [1.76796259, 0.50280983, 1.30949382, 1.40682883],\n",
              "       [0.859431  , 1.06482225, 1.09335617, 0.78152711]])"
            ]
          },
          "metadata": {},
          "execution_count": 127
        }
      ]
    },
    {
      "cell_type": "code",
      "source": [
        "#resta\n",
        "array4=array1-array2-array3\n",
        "array4"
      ],
      "metadata": {
        "colab": {
          "base_uri": "https://localhost:8080/"
        },
        "id": "Oq60pVjtvsmM",
        "outputId": "f7082492-ed9c-47e5-d66d-b877b86cc7a4"
      },
      "execution_count": 128,
      "outputs": [
        {
          "output_type": "execute_result",
          "data": {
            "text/plain": [
              "array([[-1.98367949, -0.1418143 , -0.72719845, -1.24182886],\n",
              "       [-0.74706559, -0.08821373, -0.37802337, -1.05259256],\n",
              "       [-1.56160243, -0.63892849, -0.96042533, -1.9258489 ],\n",
              "       [-0.46392588, -1.78428264, -1.40561341, -1.34527302]])"
            ]
          },
          "metadata": {},
          "execution_count": 128
        }
      ]
    },
    {
      "cell_type": "code",
      "source": [
        "#resta\n",
        "array4=np.subtract(array1,array2)\n",
        "array4"
      ],
      "metadata": {
        "colab": {
          "base_uri": "https://localhost:8080/"
        },
        "id": "VOrlF9dNwphM",
        "outputId": "126fdbbe-b7de-4127-fecb-06ff0178e52d"
      },
      "execution_count": 131,
      "outputs": [
        {
          "output_type": "execute_result",
          "data": {
            "text/plain": [
              "array([[-0.41476445,  0.50959411,  0.2760476 , -0.22811593],\n",
              "       [ 0.10290686,  0.63035024,  0.2612906 , -0.03455062],\n",
              "       [ 0.20636017, -0.13611867,  0.34906849, -0.51902007],\n",
              "       [ 0.39550512, -0.71946038, -0.31225724, -0.56374591]])"
            ]
          },
          "metadata": {},
          "execution_count": 131
        }
      ]
    },
    {
      "cell_type": "code",
      "source": [
        "#Multipicación\n",
        "array4=np.multiply(array1,array2)\n",
        "array4"
      ],
      "metadata": {
        "colab": {
          "base_uri": "https://localhost:8080/"
        },
        "id": "qp5MEoR4wP_E",
        "outputId": "c6bf3d05-ff2c-4cea-e68e-b8e8ba876cb2"
      },
      "execution_count": 129,
      "outputs": [
        {
          "output_type": "execute_result",
          "data": {
            "text/plain": [
              "array([[0.57236621, 0.04116169, 0.23257509, 0.24389426],\n",
              "       [0.17796584, 0.02974819, 0.08511239, 0.25880391],\n",
              "       [0.7707768 , 0.05857236, 0.39823131, 0.42744638],\n",
              "       [0.14554934, 0.1540558 , 0.27448078, 0.0732438 ]])"
            ]
          },
          "metadata": {},
          "execution_count": 129
        }
      ]
    },
    {
      "cell_type": "code",
      "source": [
        "#division\n",
        "array4=np.divide(array1,array2)\n",
        "array4"
      ],
      "metadata": {
        "colab": {
          "base_uri": "https://localhost:8080/"
        },
        "id": "J7gKFMORxknE",
        "outputId": "2e97c5f3-5251-4fe8-d1e9-083bc491d5b4"
      },
      "execution_count": 132,
      "outputs": [
        {
          "output_type": "execute_result",
          "data": {
            "text/plain": [
              "array([[ 0.58182312,  8.18678063,  1.75920845,  0.63261293],\n",
              "       [ 1.2754962 , 15.29143234,  2.38240449,  0.93435139],\n",
              "       [ 1.26429283,  0.5739158 ,  1.72690397,  0.46099606],\n",
              "       [ 2.70503581,  0.19355783,  0.55569969,  0.16188625]])"
            ]
          },
          "metadata": {},
          "execution_count": 132
        }
      ]
    },
    {
      "cell_type": "code",
      "source": [
        "#Exponentes\n",
        "np.exp(array1)"
      ],
      "metadata": {
        "colab": {
          "base_uri": "https://localhost:8080/"
        },
        "id": "tqztsOVmxyLE",
        "outputId": "1dbdff87-5f12-4b2b-9383-5837f26ec522"
      },
      "execution_count": 133,
      "outputs": [
        {
          "output_type": "execute_result",
          "data": {
            "text/plain": [
              "array([[1.78082242, 1.78693393, 1.89581122, 1.48111991],\n",
              "       [1.61033085, 1.962967  , 1.56878634, 1.63516818],\n",
              "       [2.68360591, 1.20122946, 2.29167079, 1.55878143],\n",
              "       [1.8728626 , 1.18848684, 1.47779257, 1.11504036]])"
            ]
          },
          "metadata": {},
          "execution_count": 133
        }
      ]
    },
    {
      "cell_type": "code",
      "source": [
        "#Seno\n",
        "np.sin(array1)"
      ],
      "metadata": {
        "colab": {
          "base_uri": "https://localhost:8080/"
        },
        "id": "ix1v5ULdyni0",
        "outputId": "2cea2fb5-674e-47b1-f592-c727cbafab20"
      },
      "execution_count": 134,
      "outputs": [
        {
          "output_type": "execute_result",
          "data": {
            "text/plain": [
              "array([[0.54557519, 0.54844316, 0.59691213, 0.38277528],\n",
              "       [0.45861825, 0.62447338, 0.43523771, 0.47216542],\n",
              "       [0.83446509, 0.18232009, 0.73744605, 0.42946871],\n",
              "       [0.587097  , 0.17182403, 0.38069656, 0.10867554]])"
            ]
          },
          "metadata": {},
          "execution_count": 134
        }
      ]
    },
    {
      "cell_type": "code",
      "source": [
        "#coseno\n",
        "np.cos(array1)"
      ],
      "metadata": {
        "colab": {
          "base_uri": "https://localhost:8080/"
        },
        "id": "aziS85PUysUc",
        "outputId": "acc4caa9-af5d-4af2-c24b-d69a55f77458"
      },
      "execution_count": 135,
      "outputs": [
        {
          "output_type": "execute_result",
          "data": {
            "text/plain": [
              "array([[0.83806188, 0.83618784, 0.80230662, 0.92384148],\n",
              "       [0.88863339, 0.78104609, 0.90031558, 0.88150996],\n",
              "       [0.55106081, 0.98323923, 0.67540604, 0.90308174],\n",
              "       [0.80951659, 0.98512766, 0.92470002, 0.99407727]])"
            ]
          },
          "metadata": {},
          "execution_count": 135
        }
      ]
    },
    {
      "cell_type": "code",
      "source": [
        "#algoritmo\n",
        "log_array=np.log(array3)\n",
        "array3"
      ],
      "metadata": {
        "colab": {
          "base_uri": "https://localhost:8080/"
        },
        "id": "OA1_vFy_yx6W",
        "outputId": "dd55e8a6-9a7c-4aac-ea89-12f750039856"
      },
      "execution_count": 136,
      "outputs": [
        {
          "output_type": "execute_result",
          "data": {
            "text/plain": [
              "array([[1.56891503, 0.65140841, 1.00324605, 1.01371293],\n",
              "       [0.84997245, 0.71856397, 0.63931397, 1.01804194],\n",
              "       [1.76796259, 0.50280983, 1.30949382, 1.40682883],\n",
              "       [0.859431  , 1.06482225, 1.09335617, 0.78152711]])"
            ]
          },
          "metadata": {},
          "execution_count": 136
        }
      ]
    },
    {
      "cell_type": "code",
      "source": [
        "#==\n",
        "array1==array2"
      ],
      "metadata": {
        "colab": {
          "base_uri": "https://localhost:8080/"
        },
        "id": "YHht9h9iy7bN",
        "outputId": "4a082546-289e-4316-9393-277c9630c8c3"
      },
      "execution_count": 137,
      "outputs": [
        {
          "output_type": "execute_result",
          "data": {
            "text/plain": [
              "array([[False, False, False, False],\n",
              "       [False, False, False, False],\n",
              "       [False, False, False, False],\n",
              "       [False, False, False, False]])"
            ]
          },
          "metadata": {},
          "execution_count": 137
        }
      ]
    },
    {
      "cell_type": "code",
      "source": [
        "#<\n",
        "array1"
      ],
      "metadata": {
        "colab": {
          "base_uri": "https://localhost:8080/"
        },
        "id": "LMgtH2FVzh6l",
        "outputId": "5bf021a2-9b8e-440e-c75b-86b1e2b93016"
      },
      "execution_count": 138,
      "outputs": [
        {
          "output_type": "execute_result",
          "data": {
            "text/plain": [
              "array([[0.57707529, 0.58050126, 0.63964683, 0.3927985 ],\n",
              "       [0.47643966, 0.67445711, 0.45030229, 0.49174566],\n",
              "       [0.98716138, 0.18334558, 0.82928115, 0.44390438],\n",
              "       [0.62746806, 0.17268094, 0.39054947, 0.1088906 ]])"
            ]
          },
          "metadata": {},
          "execution_count": 138
        }
      ]
    },
    {
      "cell_type": "code",
      "source": [
        "array1<0.5"
      ],
      "metadata": {
        "colab": {
          "base_uri": "https://localhost:8080/"
        },
        "id": "c5KKdo5gzlXp",
        "outputId": "c32871e0-6c2a-47f6-9386-f030fc803d60"
      },
      "execution_count": 139,
      "outputs": [
        {
          "output_type": "execute_result",
          "data": {
            "text/plain": [
              "array([[False, False, False,  True],\n",
              "       [ True, False,  True,  True],\n",
              "       [False,  True, False,  True],\n",
              "       [False,  True,  True,  True]])"
            ]
          },
          "metadata": {},
          "execution_count": 139
        }
      ]
    },
    {
      "cell_type": "code",
      "source": [
        "# <= / >=\n",
        "array2"
      ],
      "metadata": {
        "colab": {
          "base_uri": "https://localhost:8080/"
        },
        "id": "McQ-vprszpOl",
        "outputId": "055209e4-fe37-45bc-a6de-e15ba7b01147"
      },
      "execution_count": 140,
      "outputs": [
        {
          "output_type": "execute_result",
          "data": {
            "text/plain": [
              "array([[0.99183974, 0.07090715, 0.36359922, 0.62091443],\n",
              "       [0.37353279, 0.04410686, 0.18901168, 0.52629628],\n",
              "       [0.78080121, 0.31946425, 0.48021266, 0.96292445],\n",
              "       [0.23196294, 0.89214132, 0.70280671, 0.67263651]])"
            ]
          },
          "metadata": {},
          "execution_count": 140
        }
      ]
    },
    {
      "cell_type": "code",
      "source": [
        "array2 <=0.4"
      ],
      "metadata": {
        "colab": {
          "base_uri": "https://localhost:8080/"
        },
        "id": "KiIvrMqLzusG",
        "outputId": "f597a180-bc39-497c-b62c-e35b317bf475"
      },
      "execution_count": 141,
      "outputs": [
        {
          "output_type": "execute_result",
          "data": {
            "text/plain": [
              "array([[False,  True,  True, False],\n",
              "       [ True,  True,  True, False],\n",
              "       [False,  True, False, False],\n",
              "       [ True, False, False, False]])"
            ]
          },
          "metadata": {},
          "execution_count": 141
        }
      ]
    },
    {
      "cell_type": "markdown",
      "source": [
        "Estadisticas y funciones"
      ],
      "metadata": {
        "id": "k_Ed9XF2z369"
      }
    },
    {
      "cell_type": "code",
      "source": [
        "array6=np.random.random((5,5))\n",
        "array6"
      ],
      "metadata": {
        "colab": {
          "base_uri": "https://localhost:8080/"
        },
        "id": "zPBPtymsz7NM",
        "outputId": "19528e50-6c51-42ec-e6cf-c079d6793e90"
      },
      "execution_count": 142,
      "outputs": [
        {
          "output_type": "execute_result",
          "data": {
            "text/plain": [
              "array([[0.01076008, 0.2608632 , 0.29339404, 0.13445333, 0.48527426],\n",
              "       [0.0600079 , 0.12497132, 0.87961405, 0.98982092, 0.77597356],\n",
              "       [0.71293511, 0.69548827, 0.75393348, 0.02882167, 0.40117852],\n",
              "       [0.98231709, 0.26952097, 0.05034881, 0.85023793, 0.5544985 ],\n",
              "       [0.30792972, 0.97848654, 0.94203294, 0.10585651, 0.82617422]])"
            ]
          },
          "metadata": {},
          "execution_count": 142
        }
      ]
    },
    {
      "cell_type": "code",
      "source": [
        "#suma de elementos\n",
        "sumatotal=array6.sum()\n",
        "print(sumatotal)"
      ],
      "metadata": {
        "colab": {
          "base_uri": "https://localhost:8080/"
        },
        "id": "RdFXM_NF02hT",
        "outputId": "e94ba354-72d0-4535-b404-287953f719fe"
      },
      "execution_count": 146,
      "outputs": [
        {
          "output_type": "stream",
          "name": "stdout",
          "text": [
            "12.474892935675964\n"
          ]
        }
      ]
    },
    {
      "cell_type": "code",
      "source": [
        "#Valor minimo - maximo\n",
        "array6.min()"
      ],
      "metadata": {
        "colab": {
          "base_uri": "https://localhost:8080/"
        },
        "id": "FwtJUZqB1Dot",
        "outputId": "14687350-868e-4783-c9a7-fd7d216ae4c7"
      },
      "execution_count": 148,
      "outputs": [
        {
          "output_type": "execute_result",
          "data": {
            "text/plain": [
              "np.float64(0.010760077730858297)"
            ]
          },
          "metadata": {},
          "execution_count": 148
        }
      ]
    },
    {
      "cell_type": "code",
      "source": [
        "#maximo por fial\n",
        "array6.max(axis=0)"
      ],
      "metadata": {
        "colab": {
          "base_uri": "https://localhost:8080/"
        },
        "id": "Z_OKJJEO1XTI",
        "outputId": "03fdb2a2-159e-4a6e-ed8e-c190bdd2a72f"
      },
      "execution_count": 150,
      "outputs": [
        {
          "output_type": "execute_result",
          "data": {
            "text/plain": [
              "array([0.98231709, 0.97848654, 0.94203294, 0.98982092, 0.82617422])"
            ]
          },
          "metadata": {},
          "execution_count": 150
        }
      ]
    },
    {
      "cell_type": "code",
      "source": [
        "#fial aculumulada\n",
        "array6.cumsum(axis=1)"
      ],
      "metadata": {
        "colab": {
          "base_uri": "https://localhost:8080/"
        },
        "id": "RRSzmz7p1vCk",
        "outputId": "fae85d8b-4a0b-4588-88f2-223837c8ed80"
      },
      "execution_count": 151,
      "outputs": [
        {
          "output_type": "execute_result",
          "data": {
            "text/plain": [
              "array([[0.01076008, 0.27162328, 0.56501732, 0.69947064, 1.18474491],\n",
              "       [0.0600079 , 0.18497922, 1.06459327, 2.05441419, 2.83038775],\n",
              "       [0.71293511, 1.40842338, 2.16235686, 2.19117853, 2.59235705],\n",
              "       [0.98231709, 1.25183806, 1.30218687, 2.1524248 , 2.7069233 ],\n",
              "       [0.30792972, 1.28641626, 2.2284492 , 2.33430571, 3.16047993]])"
            ]
          },
          "metadata": {},
          "execution_count": 151
        }
      ]
    },
    {
      "cell_type": "code",
      "source": [
        "#media\n",
        "np.mean(array6)"
      ],
      "metadata": {
        "colab": {
          "base_uri": "https://localhost:8080/"
        },
        "id": "Jl62P63b2Gvc",
        "outputId": "149fa895-8586-4ef7-a1b1-8992f311b862"
      },
      "execution_count": 152,
      "outputs": [
        {
          "output_type": "execute_result",
          "data": {
            "text/plain": [
              "np.float64(0.4989957174270386)"
            ]
          },
          "metadata": {},
          "execution_count": 152
        }
      ]
    },
    {
      "cell_type": "code",
      "source": [
        "#mediana\n",
        "np.median(array6)"
      ],
      "metadata": {
        "colab": {
          "base_uri": "https://localhost:8080/"
        },
        "id": "DyCbtKf02MmF",
        "outputId": "14519227-450b-487a-c397-69ddc407b26a"
      },
      "execution_count": 153,
      "outputs": [
        {
          "output_type": "execute_result",
          "data": {
            "text/plain": [
              "np.float64(0.485274264861685)"
            ]
          },
          "metadata": {},
          "execution_count": 153
        }
      ]
    },
    {
      "cell_type": "code",
      "source": [
        "#desviacion es"
      ],
      "metadata": {
        "id": "5V6K0E-w2S_0"
      },
      "execution_count": null,
      "outputs": []
    }
  ]
}