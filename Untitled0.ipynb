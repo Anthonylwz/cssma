{
  "nbformat": 4,
  "nbformat_minor": 0,
  "metadata": {
    "colab": {
      "provenance": [],
      "mount_file_id": "1kWROhujIjNZYnThUcyNjKvJR104RiJAT",
      "authorship_tag": "ABX9TyNVzepgcmswQboNk9vic5l1",
      "include_colab_link": true
    },
    "kernelspec": {
      "name": "python3",
      "display_name": "Python 3"
    },
    "language_info": {
      "name": "python"
    }
  },
  "cells": [
    {
      "cell_type": "markdown",
      "metadata": {
        "id": "view-in-github",
        "colab_type": "text"
      },
      "source": [
        "<a href=\"https://colab.research.google.com/github/Anthonylwz/cssma/blob/main/Untitled0.ipynb\" target=\"_parent\"><img src=\"https://colab.research.google.com/assets/colab-badge.svg\" alt=\"Open In Colab\"/></a>"
      ]
    },
    {
      "cell_type": "markdown",
      "source": [
        "Numpy, libreria de ciencia de datos"
      ],
      "metadata": {
        "id": "q0IK7Va7uHwV"
      }
    },
    {
      "cell_type": "code",
      "execution_count": 77,
      "metadata": {
        "id": "pUyCNvjttcYp"
      },
      "outputs": [],
      "source": [
        "import numpy as np\n",
        "#pip install numpy"
      ]
    },
    {
      "cell_type": "markdown",
      "source": [
        "array de 1 dimension"
      ],
      "metadata": {
        "id": "08OsxlD4wxnk"
      }
    },
    {
      "cell_type": "code",
      "source": [
        "array_1d=np.array((10,20,30))\n",
        "print(array_1d)"
      ],
      "metadata": {
        "colab": {
          "base_uri": "https://localhost:8080/"
        },
        "id": "mx39b2fvvqXF",
        "outputId": "7910877d-ecbf-445c-dc10-93b749ca4b1a"
      },
      "execution_count": 78,
      "outputs": [
        {
          "output_type": "stream",
          "name": "stdout",
          "text": [
            "[10 20 30]\n"
          ]
        }
      ]
    },
    {
      "cell_type": "code",
      "source": [
        "array_1d"
      ],
      "metadata": {
        "colab": {
          "base_uri": "https://localhost:8080/"
        },
        "id": "MhdZlgTzwc9t",
        "outputId": "34040e92-e059-4fe4-9e39-c167dd87beca"
      },
      "execution_count": 79,
      "outputs": [
        {
          "output_type": "execute_result",
          "data": {
            "text/plain": [
              "array([10, 20, 30])"
            ]
          },
          "metadata": {},
          "execution_count": 79
        }
      ]
    },
    {
      "cell_type": "markdown",
      "source": [
        "Array de 2 dimensiones\n"
      ],
      "metadata": {
        "id": "QPq8qFelwsG1"
      }
    },
    {
      "cell_type": "code",
      "source": [
        "array_2d=np.array([(10,20,30),(50,60,70)])\n",
        "array_2d"
      ],
      "metadata": {
        "colab": {
          "base_uri": "https://localhost:8080/"
        },
        "id": "muhfOuCfwooL",
        "outputId": "4e107c9a-f751-43b4-80ba-f91dc8c1d183"
      },
      "execution_count": 80,
      "outputs": [
        {
          "output_type": "execute_result",
          "data": {
            "text/plain": [
              "array([[10, 20, 30],\n",
              "       [50, 60, 70]])"
            ]
          },
          "metadata": {},
          "execution_count": 80
        }
      ]
    },
    {
      "cell_type": "markdown",
      "source": [
        "Array de 3 dimensiones"
      ],
      "metadata": {
        "id": "aV_wDWIezMNm"
      }
    },
    {
      "cell_type": "code",
      "source": [
        "array_3d=np.array([(10,30,40),(50,60,70),(80,90,100)], dtype =float)\n",
        "array_3d"
      ],
      "metadata": {
        "colab": {
          "base_uri": "https://localhost:8080/"
        },
        "id": "XqW5kHkAx-Ul",
        "outputId": "81be6297-c0af-455a-e51c-4fb9974df203"
      },
      "execution_count": 81,
      "outputs": [
        {
          "output_type": "execute_result",
          "data": {
            "text/plain": [
              "array([[ 10.,  30.,  40.],\n",
              "       [ 50.,  60.,  70.],\n",
              "       [ 80.,  90., 100.]])"
            ]
          },
          "metadata": {},
          "execution_count": 81
        }
      ]
    },
    {
      "cell_type": "markdown",
      "source": [
        "Array con cerors de 3 filas y columnas\n"
      ],
      "metadata": {
        "id": "Fn_I-D4q4WeX"
      }
    },
    {
      "cell_type": "code",
      "source": [
        "np.zeros((3,4))"
      ],
      "metadata": {
        "colab": {
          "base_uri": "https://localhost:8080/"
        },
        "id": "3bc3Kzmr4cdf",
        "outputId": "ed48afd9-d96b-4b84-a6d3-824ab06d2498"
      },
      "execution_count": 82,
      "outputs": [
        {
          "output_type": "execute_result",
          "data": {
            "text/plain": [
              "array([[0., 0., 0., 0.],\n",
              "       [0., 0., 0., 0.],\n",
              "       [0., 0., 0., 0.]])"
            ]
          },
          "metadata": {},
          "execution_count": 82
        }
      ]
    },
    {
      "cell_type": "code",
      "source": [
        "print(np.zeros((4,5)))"
      ],
      "metadata": {
        "colab": {
          "base_uri": "https://localhost:8080/"
        },
        "id": "wNuChUxW4jrv",
        "outputId": "c55ecec6-0e56-429b-9f16-5ac65d5e3a78"
      },
      "execution_count": 83,
      "outputs": [
        {
          "output_type": "stream",
          "name": "stdout",
          "text": [
            "[[0. 0. 0. 0. 0.]\n",
            " [0. 0. 0. 0. 0.]\n",
            " [0. 0. 0. 0. 0.]\n",
            " [0. 0. 0. 0. 0.]]\n"
          ]
        }
      ]
    },
    {
      "cell_type": "markdown",
      "source": [
        "Array de unos y con 2 dimensiones 4 filas y 5 columnas"
      ],
      "metadata": {
        "id": "6sANFc4Q400X"
      }
    },
    {
      "cell_type": "code",
      "source": [
        "np.ones((2,4,5))"
      ],
      "metadata": {
        "colab": {
          "base_uri": "https://localhost:8080/"
        },
        "id": "qpDWNpSH4-HX",
        "outputId": "1e797df5-e28b-4e8f-bf71-68eb526d7ece"
      },
      "execution_count": 84,
      "outputs": [
        {
          "output_type": "execute_result",
          "data": {
            "text/plain": [
              "array([[[1., 1., 1., 1., 1.],\n",
              "        [1., 1., 1., 1., 1.],\n",
              "        [1., 1., 1., 1., 1.],\n",
              "        [1., 1., 1., 1., 1.]],\n",
              "\n",
              "       [[1., 1., 1., 1., 1.],\n",
              "        [1., 1., 1., 1., 1.],\n",
              "        [1., 1., 1., 1., 1.],\n",
              "        [1., 1., 1., 1., 1.]]])"
            ]
          },
          "metadata": {},
          "execution_count": 84
        }
      ]
    },
    {
      "cell_type": "markdown",
      "source": [
        "Arrays intervalos y saltos"
      ],
      "metadata": {
        "id": "jyL5u0_d5X9G"
      }
    },
    {
      "cell_type": "code",
      "source": [
        "np.arange(11,30,2)"
      ],
      "metadata": {
        "colab": {
          "base_uri": "https://localhost:8080/"
        },
        "id": "cwRetaFN5axH",
        "outputId": "23dafdc5-3990-4774-eef9-a56183e59192"
      },
      "execution_count": 85,
      "outputs": [
        {
          "output_type": "execute_result",
          "data": {
            "text/plain": [
              "array([11, 13, 15, 17, 19, 21, 23, 25, 27, 29])"
            ]
          },
          "metadata": {},
          "execution_count": 85
        }
      ]
    },
    {
      "cell_type": "markdown",
      "source": [
        "Array con intervalos y divisiones\n"
      ],
      "metadata": {
        "id": "Entczuut78w4"
      }
    },
    {
      "cell_type": "code",
      "source": [
        "np.linspace(0,4,7)"
      ],
      "metadata": {
        "colab": {
          "base_uri": "https://localhost:8080/"
        },
        "id": "3QyM2paD8BKA",
        "outputId": "fb9dc2db-6c32-4f07-d91b-ac882c441a45"
      },
      "execution_count": 86,
      "outputs": [
        {
          "output_type": "execute_result",
          "data": {
            "text/plain": [
              "array([0.        , 0.66666667, 1.33333333, 2.        , 2.66666667,\n",
              "       3.33333333, 4.        ])"
            ]
          },
          "metadata": {},
          "execution_count": 86
        }
      ]
    },
    {
      "cell_type": "markdown",
      "source": [
        "Arrays con valores dados"
      ],
      "metadata": {
        "id": "4jC2T8-b8kVQ"
      }
    },
    {
      "cell_type": "markdown",
      "source": [
        "números primos 11 al 30"
      ],
      "metadata": {
        "id": "YHRRphs47Wkp"
      }
    },
    {
      "cell_type": "code",
      "source": [
        "np.full((3,3),7)"
      ],
      "metadata": {
        "colab": {
          "base_uri": "https://localhost:8080/"
        },
        "id": "3YYPz0-r8pMQ",
        "outputId": "cc8e70cf-ea5f-48c8-89b1-a99dbc7c8369"
      },
      "execution_count": 87,
      "outputs": [
        {
          "output_type": "execute_result",
          "data": {
            "text/plain": [
              "array([[7, 7, 7],\n",
              "       [7, 7, 7],\n",
              "       [7, 7, 7]])"
            ]
          },
          "metadata": {},
          "execution_count": 87
        }
      ]
    },
    {
      "cell_type": "markdown",
      "source": [
        "Array con matriz identidad, diagonal de unos"
      ],
      "metadata": {
        "id": "RByVnJj088xI"
      }
    },
    {
      "cell_type": "code",
      "source": [
        "np.eye(3)"
      ],
      "metadata": {
        "colab": {
          "base_uri": "https://localhost:8080/"
        },
        "id": "nJ-yVCyw9E0B",
        "outputId": "4c5aef5e-18d4-443e-9d0e-bd92783c7d38"
      },
      "execution_count": 88,
      "outputs": [
        {
          "output_type": "execute_result",
          "data": {
            "text/plain": [
              "array([[1., 0., 0.],\n",
              "       [0., 1., 0.],\n",
              "       [0., 0., 1.]])"
            ]
          },
          "metadata": {},
          "execution_count": 88
        }
      ]
    },
    {
      "cell_type": "markdown",
      "source": [
        "Array valores Aletorios"
      ],
      "metadata": {
        "id": "s6uKNXeh-gch"
      }
    },
    {
      "cell_type": "code",
      "source": [
        "np.random.random((5,4))"
      ],
      "metadata": {
        "colab": {
          "base_uri": "https://localhost:8080/"
        },
        "id": "o3ZA2NYB-jMx",
        "outputId": "4da61705-3378-4417-d32d-a482c9408f1e"
      },
      "execution_count": 89,
      "outputs": [
        {
          "output_type": "execute_result",
          "data": {
            "text/plain": [
              "array([[0.35635356, 0.73519322, 0.57094148, 0.78755513],\n",
              "       [0.77915238, 0.07605888, 0.07888627, 0.3474468 ],\n",
              "       [0.84222431, 0.00947756, 0.542804  , 0.2989466 ],\n",
              "       [0.68073143, 0.29849945, 0.18064965, 0.0103979 ],\n",
              "       [0.41205461, 0.52888207, 0.43318973, 0.97452468]])"
            ]
          },
          "metadata": {},
          "execution_count": 89
        }
      ]
    },
    {
      "cell_type": "markdown",
      "source": [
        "Array de numeros vacios 4/*3"
      ],
      "metadata": {
        "id": "rsUcOI6-_FJJ"
      }
    },
    {
      "cell_type": "code",
      "source": [
        "np.empty((4,3))"
      ],
      "metadata": {
        "colab": {
          "base_uri": "https://localhost:8080/"
        },
        "id": "Sk9FXZlM_Oo5",
        "outputId": "42629a44-41b4-4125-cbde-65433baef715"
      },
      "execution_count": 90,
      "outputs": [
        {
          "output_type": "execute_result",
          "data": {
            "text/plain": [
              "array([[0., 0., 0.],\n",
              "       [0., 0., 0.],\n",
              "       [0., 0., 0.],\n",
              "       [0., 0., 0.]])"
            ]
          },
          "metadata": {},
          "execution_count": 90
        }
      ]
    },
    {
      "cell_type": "markdown",
      "source": [
        "Grabar y cargar"
      ],
      "metadata": {
        "id": "eljbbDZ5BnbK"
      }
    },
    {
      "cell_type": "code",
      "source": [
        "#Grabar\n",
        "np.save(\"mi_array_3d\",array_3d)"
      ],
      "metadata": {
        "id": "k7yawlWUBsn6"
      },
      "execution_count": 91,
      "outputs": []
    },
    {
      "cell_type": "code",
      "source": [
        "#Cargar\n",
        "mi_array=np.load(\"mi_array_3d.npy\")\n",
        "mi_array"
      ],
      "metadata": {
        "colab": {
          "base_uri": "https://localhost:8080/"
        },
        "id": "Nwl9MGRDCljC",
        "outputId": "348927c2-3913-4cd9-c745-6420ec7b3fbd"
      },
      "execution_count": 92,
      "outputs": [
        {
          "output_type": "execute_result",
          "data": {
            "text/plain": [
              "array([[ 10.,  30.,  40.],\n",
              "       [ 50.,  60.,  70.],\n",
              "       [ 80.,  90., 100.]])"
            ]
          },
          "metadata": {},
          "execution_count": 92
        }
      ]
    },
    {
      "cell_type": "code",
      "source": [
        "#Grabar\n",
        "np.save(\"array_2d\", array_2d)"
      ],
      "metadata": {
        "id": "LV2Vyu_3EF4y"
      },
      "execution_count": 93,
      "outputs": []
    },
    {
      "cell_type": "code",
      "source": [
        "#Cargar\n",
        "mi_array=np.load(\"array_2d.npy\")\n",
        "mi_array"
      ],
      "metadata": {
        "colab": {
          "base_uri": "https://localhost:8080/"
        },
        "id": "L9nq0iQjERuc",
        "outputId": "37d09cd0-22d0-46d6-9a98-5a558b20007a"
      },
      "execution_count": 94,
      "outputs": [
        {
          "output_type": "execute_result",
          "data": {
            "text/plain": [
              "array([[10, 20, 30],\n",
              "       [50, 60, 70]])"
            ]
          },
          "metadata": {},
          "execution_count": 94
        }
      ]
    },
    {
      "cell_type": "markdown",
      "source": [
        "Grabar y cargar ficheros de texto"
      ],
      "metadata": {
        "id": "Hquch0geE4Px"
      }
    },
    {
      "cell_type": "code",
      "source": [
        "#grabar el fichero de texto\n",
        "np.savetxt(\"mi_array.txt\",array_2d, delimiter=\",\")"
      ],
      "metadata": {
        "id": "de5IHD6CE8NM"
      },
      "execution_count": 95,
      "outputs": []
    },
    {
      "cell_type": "code",
      "source": [
        "#cargar de fichero de texto\n",
        "np.loadtxt(\"mi_array.txt\", delimiter=\",\")"
      ],
      "metadata": {
        "colab": {
          "base_uri": "https://localhost:8080/"
        },
        "id": "ZLT1VNGSGKwb",
        "outputId": "4dd917fa-719b-48c2-a541-2ad33672921b"
      },
      "execution_count": 96,
      "outputs": [
        {
          "output_type": "execute_result",
          "data": {
            "text/plain": [
              "array([[10., 20., 30.],\n",
              "       [50., 60., 70.]])"
            ]
          },
          "metadata": {},
          "execution_count": 96
        }
      ]
    },
    {
      "cell_type": "markdown",
      "source": [
        "ejercicio01"
      ],
      "metadata": {
        "id": "q8PuTQKnKgqN"
      }
    },
    {
      "cell_type": "code",
      "source": [
        "1#grabar\n",
        "asignaturas = [\"Matemáticas\", \"Física\", \"Química\", \"Historia\", \"Lengua\"]\n",
        "np.save(\"ejercicios/ejercicio 01.npy\", asignaturas)"
      ],
      "metadata": {
        "id": "sHHnEmNYPtGe"
      },
      "execution_count": 97,
      "outputs": []
    },
    {
      "cell_type": "code",
      "source": [
        "#cargar\n",
        "np.load(\"ejercicios/ejercicio 01.npy\")"
      ],
      "metadata": {
        "id": "nkstRD2WQONO",
        "colab": {
          "base_uri": "https://localhost:8080/"
        },
        "outputId": "cd26b7b4-df2e-41f5-d1c7-5f0d2583438e"
      },
      "execution_count": 98,
      "outputs": [
        {
          "output_type": "execute_result",
          "data": {
            "text/plain": [
              "array(['Matemáticas', 'Física', 'Química', 'Historia', 'Lengua'],\n",
              "      dtype='<U11')"
            ]
          },
          "metadata": {},
          "execution_count": 98
        }
      ]
    },
    {
      "cell_type": "markdown",
      "source": [
        "ejercicio 02"
      ],
      "metadata": {
        "id": "qNLMHSUoRlD2"
      }
    },
    {
      "cell_type": "code",
      "source": [
        "materias = [\"Matemáticas\", \"Física\", \"Química\", \"Historia\", \"Lengua\"]\n",
        "np.save(\"ejercicios/ejercicio02.npy\", materias)"
      ],
      "metadata": {
        "id": "AjxI5zEQRnJm"
      },
      "execution_count": 99,
      "outputs": []
    },
    {
      "cell_type": "code",
      "source": [
        "np.load(\"ejercicios/ejercicio02.npy\")\n",
        "for m in materias:\n",
        "    print(f\"Yo estudio {m}\")"
      ],
      "metadata": {
        "colab": {
          "base_uri": "https://localhost:8080/"
        },
        "id": "PGWawJrHTbF3",
        "outputId": "260e982c-3524-4f25-e7c2-56b80401b634"
      },
      "execution_count": 100,
      "outputs": [
        {
          "output_type": "stream",
          "name": "stdout",
          "text": [
            "Yo estudio Matemáticas\n",
            "Yo estudio Física\n",
            "Yo estudio Química\n",
            "Yo estudio Historia\n",
            "Yo estudio Lengua\n"
          ]
        }
      ]
    },
    {
      "cell_type": "markdown",
      "source": [
        "ejercicio 03"
      ],
      "metadata": {
        "id": "Pie62HD_VSXf"
      }
    },
    {
      "cell_type": "code",
      "source": [
        "#grabar\n",
        "asignaturas = [\"Matemáticas\", \"Física\", \"Química\", \"Historia\", \"Lengua\"]\n",
        "np.save(\"ejercicios/ejercicio_03.npy\", asignaturas)"
      ],
      "metadata": {
        "id": "9Aeg4aQbW-xf"
      },
      "execution_count": 101,
      "outputs": []
    },
    {
      "cell_type": "code",
      "source": [
        "112#cargar\n",
        "asignaturas = np.load(\"ejercicios/ejercicio_03.npy\")\n",
        "for asignatura in asignaturas:\n",
        "    nota = input(f\"¿Qué nota sacaste en {asignatura}? \")\n",
        "    print(f\"En {asignatura} has sacado {nota}\")\n"
      ],
      "metadata": {
        "colab": {
          "base_uri": "https://localhost:8080/"
        },
        "id": "2NRm7basX6XA",
        "outputId": "46a7ea90-f673-4cbd-b916-f94647c2ab2b"
      },
      "execution_count": 102,
      "outputs": [
        {
          "output_type": "stream",
          "name": "stdout",
          "text": [
            "¿Qué nota sacaste en Matemáticas? 12\n",
            "En Matemáticas has sacado 12\n",
            "¿Qué nota sacaste en Física? 2\n",
            "En Física has sacado 2\n",
            "¿Qué nota sacaste en Química? 12\n",
            "En Química has sacado 12\n",
            "¿Qué nota sacaste en Historia? 12\n",
            "En Historia has sacado 12\n",
            "¿Qué nota sacaste en Lengua? 12\n",
            "En Lengua has sacado 12\n"
          ]
        }
      ]
    },
    {
      "cell_type": "markdown",
      "source": [
        "Ejercicio 04"
      ],
      "metadata": {
        "id": "O5S4pyaAaNA4"
      }
    },
    {
      "cell_type": "code",
      "source": [
        "#grabar\n",
        "import numpy as np\n",
        "ganadores = []\n",
        "for i in range(6):\n",
        "    numero = int(input(f\"Introduce el número ganador {i+1}: \"))\n",
        "    ganadores.append(numero)\n",
        "np.save(\"ejercicios/ejercicio_04.npy\", np.array(ganadores))\n",
        "\n"
      ],
      "metadata": {
        "id": "hJxr1taqemzS",
        "outputId": "4891a922-68ba-471e-90a0-78ccc454d0b1",
        "colab": {
          "base_uri": "https://localhost:8080/"
        }
      },
      "execution_count": 103,
      "outputs": [
        {
          "name": "stdout",
          "output_type": "stream",
          "text": [
            "Introduce el número ganador 1: 12\n",
            "Introduce el número ganador 2: 12\n",
            "Introduce el número ganador 3: 12\n",
            "Introduce el número ganador 4: 12\n",
            "Introduce el número ganador 5: 12\n",
            "Introduce el número ganador 6: 12\n"
          ]
        }
      ]
    },
    {
      "cell_type": "code",
      "source": [
        "#cargar\n",
        "import numpy as np\n",
        "ganadores = np.load(\"ejercicios/ejercicio_04.npy\")\n",
        "ganadores_ordenados = np.sort(ganadores)\n",
        "print(\"Números ganadores ordenados:\", \", \".join(str(n) for n in ganadores_ordenados))\n"
      ],
      "metadata": {
        "id": "a8CpFALAenhB",
        "colab": {
          "base_uri": "https://localhost:8080/"
        },
        "outputId": "8b457df8-aa73-4bce-e83e-2cb05926502a"
      },
      "execution_count": 104,
      "outputs": [
        {
          "output_type": "stream",
          "name": "stdout",
          "text": [
            "Números ganadores ordenados: 12, 12, 12, 12, 12, 12\n"
          ]
        }
      ]
    },
    {
      "cell_type": "markdown",
      "source": [
        "Ejercicio 05"
      ],
      "metadata": {
        "id": "63WWBVSsbMgv"
      }
    },
    {
      "cell_type": "code",
      "source": [
        "#  grabar\n",
        "import numpy as np\n",
        "\n",
        "numeros = list(range(1, 11))\n",
        "np.save(\"ejercicios/ejercicio_05.npy\", numeros)\n"
      ],
      "metadata": {
        "id": "i53AHMStbQkg"
      },
      "execution_count": 105,
      "outputs": []
    },
    {
      "cell_type": "code",
      "source": [
        "#  cargar\n",
        "import numpy as np\n",
        "numeros = np.load(\"ejercicios/ejercicio_05.npy\")\n",
        "print(\"Números en orden inverso:\")\n",
        "print(\", \".join(str(n) for n in reversed(numeros)))\n"
      ],
      "metadata": {
        "colab": {
          "base_uri": "https://localhost:8080/"
        },
        "id": "xlE4YIpSfnBC",
        "outputId": "24c70f55-4652-45d4-d2f9-1182a9cdc908"
      },
      "execution_count": 106,
      "outputs": [
        {
          "output_type": "stream",
          "name": "stdout",
          "text": [
            "Números en orden inverso:\n",
            "10, 9, 8, 7, 6, 5, 4, 3, 2, 1\n"
          ]
        }
      ]
    },
    {
      "cell_type": "markdown",
      "source": [
        "Ejercicio 06"
      ],
      "metadata": {
        "id": "joS4KL3sgaPR"
      }
    },
    {
      "cell_type": "code",
      "source": [
        "# grabar\n",
        "import numpy as np\n",
        "asignaturas = [\"Matemáticas\", \"Física\", \"Química\", \"Historia\", \"Lengua\"]\n",
        "np.save(\"ejercicios/ejercicio_06.npy\", asignaturas)\n"
      ],
      "metadata": {
        "id": "SjPU0tsDgcVx"
      },
      "execution_count": 107,
      "outputs": []
    },
    {
      "cell_type": "code",
      "source": [
        "# cargar\n",
        "import numpy as np\n",
        "asignaturas = np.load(\"ejercicios/ejercicio_06.npy\")\n",
        "suspendidas = []\n",
        "for asignatura in asignaturas:\n",
        "    nota = float(input(f\"¿Qué nota sacaste en {asignatura}? \"))\n",
        "    if nota < 5:\n",
        "        suspendidas.append(asignatura)\n",
        "print(\"Tienes que repetir:\", \", \".join(suspendidas))\n"
      ],
      "metadata": {
        "colab": {
          "base_uri": "https://localhost:8080/"
        },
        "id": "mlHhPkp_gzq5",
        "outputId": "2a0ed842-0d41-4be0-8f85-f81d06c1eba0"
      },
      "execution_count": 108,
      "outputs": [
        {
          "output_type": "stream",
          "name": "stdout",
          "text": [
            "¿Qué nota sacaste en Matemáticas? 12\n",
            "¿Qué nota sacaste en Física? 12\n",
            "¿Qué nota sacaste en Química? 12\n",
            "¿Qué nota sacaste en Historia? 12\n",
            "¿Qué nota sacaste en Lengua? 12\n",
            "Tienes que repetir: \n"
          ]
        }
      ]
    },
    {
      "cell_type": "markdown",
      "source": [
        "Ejercicio 07"
      ],
      "metadata": {
        "id": "6FzB6FJog9E5"
      }
    },
    {
      "cell_type": "code",
      "source": [
        "# grabar\n",
        "import numpy as np\n",
        "import string\n",
        "\n",
        "abecedario = list(string.ascii_lowercase)\n",
        "np.save(\"ejercicios/ejercicio_07.npy\", np.array(abecedario))\n"
      ],
      "metadata": {
        "id": "UztvAPIMh9oK"
      },
      "execution_count": 109,
      "outputs": []
    },
    {
      "cell_type": "code",
      "source": [
        "#  cargar\n",
        "import numpy as np\n",
        "\n",
        "abecedario = np.load(\"ejercicios/ejercicio_07.npy\")\n",
        "\n",
        "resultado = [letra for i, letra in enumerate(abecedario) if (i + 1) % 3 != 0]\n",
        "\n",
        "print(\", \".join(resultado))\n"
      ],
      "metadata": {
        "colab": {
          "base_uri": "https://localhost:8080/"
        },
        "id": "gaSXKLj_iB_Z",
        "outputId": "cd34a55d-fa71-4421-98f2-b1c863c82350"
      },
      "execution_count": 110,
      "outputs": [
        {
          "output_type": "stream",
          "name": "stdout",
          "text": [
            "a, b, d, e, g, h, j, k, m, n, p, q, s, t, v, w, y, z\n"
          ]
        }
      ]
    },
    {
      "cell_type": "markdown",
      "source": [
        "Ejercicio 8"
      ],
      "metadata": {
        "id": "f643msk2iFuB"
      }
    },
    {
      "cell_type": "code",
      "source": [
        "# grabar\n",
        "import numpy as np\n",
        "\n",
        "palabra = input(\"Introduce una palabra: \")\n",
        "np.save(\"ejercicios/ejercicio_08.npy\", np.array([palabra]))\n"
      ],
      "metadata": {
        "colab": {
          "base_uri": "https://localhost:8080/"
        },
        "id": "yzhymoA9iHeZ",
        "outputId": "ebcbf3ce-b43f-4486-9137-03f71e86be75"
      },
      "execution_count": 111,
      "outputs": [
        {
          "name": "stdout",
          "output_type": "stream",
          "text": [
            "Introduce una palabra: 12\n"
          ]
        }
      ]
    },
    {
      "cell_type": "code",
      "source": [
        "# cargar\n",
        "import numpy as np\n",
        "\n",
        "palabra = np.load(\"ejercicios/ejercicio_08.npy\")[0]\n",
        "\n",
        "if palabra == palabra[::-1]:\n",
        "    print(\"La palabra es un palíndromo.\")\n",
        "else:\n",
        "    print(\"La palabra no es un palíndromo.\")\n"
      ],
      "metadata": {
        "colab": {
          "base_uri": "https://localhost:8080/"
        },
        "id": "xwKqvP73iRbS",
        "outputId": "b987a82f-8693-47bb-fcc0-938c08ea2bd8"
      },
      "execution_count": 112,
      "outputs": [
        {
          "output_type": "stream",
          "name": "stdout",
          "text": [
            "La palabra no es un palíndromo.\n"
          ]
        }
      ]
    },
    {
      "cell_type": "markdown",
      "source": [
        "Ejercicio 9"
      ],
      "metadata": {
        "id": "cY_rXnw0iXJB"
      }
    },
    {
      "cell_type": "code",
      "source": [
        "# grabar\n",
        "import numpy as np\n",
        "\n",
        "palabra = input(\"Introduce una palabra: \").lower()\n",
        "np.save(\"ejercicios/ejercicio_09.npy\", np.array([palabra]))\n"
      ],
      "metadata": {
        "colab": {
          "base_uri": "https://localhost:8080/"
        },
        "id": "Qtlu6wN4iaKr",
        "outputId": "5e7406cd-1aa6-409d-d4fc-601afbfb4da1"
      },
      "execution_count": 113,
      "outputs": [
        {
          "name": "stdout",
          "output_type": "stream",
          "text": [
            "Introduce una palabra: 12\n"
          ]
        }
      ]
    },
    {
      "cell_type": "code",
      "source": [
        "# cargar\n",
        "import numpy as np\n",
        "palabra = np.load(\"ejercicios/ejercicio_09.npy\")[0]\n",
        "vocales = \"aeiou\"\n",
        "for vocal in vocales:\n",
        "    print(f\"{vocal}: {palabra.count(vocal)}\")\n"
      ],
      "metadata": {
        "colab": {
          "base_uri": "https://localhost:8080/"
        },
        "id": "XLHS-po7irya",
        "outputId": "611acbf5-5509-4a1f-e022-17de066d9ddf"
      },
      "execution_count": 114,
      "outputs": [
        {
          "output_type": "stream",
          "name": "stdout",
          "text": [
            "a: 0\n",
            "e: 0\n",
            "i: 0\n",
            "o: 0\n",
            "u: 0\n"
          ]
        }
      ]
    },
    {
      "cell_type": "markdown",
      "source": [
        "Ejercicio 10"
      ],
      "metadata": {
        "id": "OrAw7S1liu8p"
      }
    },
    {
      "cell_type": "code",
      "source": [
        "# grabar\n",
        "import numpy as np\n",
        "precios = [50, 75, 46, 22, 80, 65, 8]\n",
        "np.save(\"ejercicios/ejercicio_10.npy\", np.array(precios))\n"
      ],
      "metadata": {
        "id": "2tUo9jcYiwYl"
      },
      "execution_count": 115,
      "outputs": []
    },
    {
      "cell_type": "code",
      "source": [
        "# cargar\n",
        "import numpy as np\n",
        "precios = np.load(\"ejercicios/ejercicio_10.npy\")\n",
        "\n",
        "print(\"Menor precio:\", min(precios))\n",
        "print(\"Mayor precio:\", max(precios))\n"
      ],
      "metadata": {
        "colab": {
          "base_uri": "https://localhost:8080/"
        },
        "id": "gzwEv8C9jVsj",
        "outputId": "b4dc2717-7fd2-4a1d-fd99-7bbe6ac4ada7"
      },
      "execution_count": 116,
      "outputs": [
        {
          "output_type": "stream",
          "name": "stdout",
          "text": [
            "Menor precio: 8\n",
            "Mayor precio: 80\n"
          ]
        }
      ]
    },
    {
      "cell_type": "markdown",
      "source": [
        "Ejercicio 11"
      ],
      "metadata": {
        "id": "Vr_C48_wjslS"
      }
    },
    {
      "cell_type": "code",
      "source": [
        "# grabar\n",
        "import numpy as np\n",
        "vector1 = [1, 2, 3]\n",
        "vector2 = [-1, 0, 2]\n",
        "np.save(\"ejercicios/ejercicio_11_vector1.npy\", np.array(vector1))\n",
        "np.save(\"ejercicios/ejercicio_11_vector2.npy\", np.array(vector2))\n"
      ],
      "metadata": {
        "id": "JbAbxkxNjxMh"
      },
      "execution_count": 117,
      "outputs": []
    },
    {
      "cell_type": "code",
      "source": [
        "#  cargar\n",
        "import numpy as np\n",
        "vector1 = np.load(\"ejercicios/ejercicio_11_vector1.npy\")\n",
        "vector2 = np.load(\"ejercicios/ejercicio_11_vector2.npy\")\n",
        "\n",
        "producto_escalar = np.dot(vector1, vector2)\n",
        "\n",
        "print(\"Producto escalar:\", producto_escalar)\n"
      ],
      "metadata": {
        "colab": {
          "base_uri": "https://localhost:8080/"
        },
        "id": "qJmXCOknj3A6",
        "outputId": "f1c78ba8-b427-4caa-c8b6-9580784f5e00"
      },
      "execution_count": 118,
      "outputs": [
        {
          "output_type": "stream",
          "name": "stdout",
          "text": [
            "Producto escalar: 5\n"
          ]
        }
      ]
    },
    {
      "cell_type": "markdown",
      "source": [
        "Ejercicio 12"
      ],
      "metadata": {
        "id": "RmT1V_NGj5gY"
      }
    },
    {
      "cell_type": "code",
      "source": [
        "# grabar\n",
        "import numpy as np\n",
        "matriz1 = [[1, 2], [3, 4]]\n",
        "matriz2 = [[5, 6], [7, 8]]\n",
        "np.save(\"ejercicios/ejercicio_12_matriz1.npy\", np.array(matriz1))\n",
        "np.save(\"ejercicios/ejercicio_12_matriz2.npy\", np.array(matriz2))\n"
      ],
      "metadata": {
        "id": "BnJnkceMj675"
      },
      "execution_count": 119,
      "outputs": []
    },
    {
      "cell_type": "code",
      "source": [
        "#  cargar\n",
        "import numpy as np\n",
        "matriz1 = np.load(\"ejercicios/ejercicio_12_matriz1.npy\")\n",
        "matriz2 = np.load(\"ejercicios/ejercicio_12_matriz2.npy\")\n",
        "producto = np.dot(matriz1, matriz2)\n",
        "\n",
        "print(\"Producto de las matrices:\")\n",
        "print(producto)\n"
      ],
      "metadata": {
        "colab": {
          "base_uri": "https://localhost:8080/"
        },
        "id": "9WB3V4wfkBUZ",
        "outputId": "6f64376f-65ed-4c1b-9483-cdb3d844a6fb"
      },
      "execution_count": 120,
      "outputs": [
        {
          "output_type": "stream",
          "name": "stdout",
          "text": [
            "Producto de las matrices:\n",
            "[[19 22]\n",
            " [43 50]]\n"
          ]
        }
      ]
    },
    {
      "cell_type": "markdown",
      "source": [
        "Ejercicio 13"
      ],
      "metadata": {
        "id": "NFROv5_3kD2Z"
      }
    },
    {
      "cell_type": "code",
      "source": [
        "# grabar\n",
        "import numpy as np\n",
        "entrada = input(\"Introduce números separados por comas: \")\n",
        "numeros = [float(x.strip()) for x in entrada.split(\",\")]\n",
        "np.save(\"ejercicios/ejercicio_13.npy\", np.array(numeros, dtype=float))\n"
      ],
      "metadata": {
        "colab": {
          "base_uri": "https://localhost:8080/"
        },
        "id": "q7tkXCB9kGDB",
        "outputId": "acce6ac8-daea-400c-fc95-37fe8bcc1750"
      },
      "execution_count": 121,
      "outputs": [
        {
          "name": "stdout",
          "output_type": "stream",
          "text": [
            "Introduce números separados por comas: 12\n"
          ]
        }
      ]
    },
    {
      "cell_type": "code",
      "source": [
        "# cargar\n",
        "import numpy as np\n",
        "numeros = np.load(\"ejercicios/ejercicio_13.npy\")\n",
        "media = np.mean(numeros)\n",
        "desviacion = np.std(numeros)\n",
        "print(\"Media:\", round(media, 2))\n",
        "print(\"Desviación típica:\", round(desviacion, 2))\n"
      ],
      "metadata": {
        "colab": {
          "base_uri": "https://localhost:8080/"
        },
        "id": "jZbK1KZEkMQy",
        "outputId": "21724445-9590-452f-ce66-d374691dde91"
      },
      "execution_count": 122,
      "outputs": [
        {
          "output_type": "stream",
          "name": "stdout",
          "text": [
            "Media: 12.0\n",
            "Desviación típica: 0.0\n"
          ]
        }
      ]
    },
    {
      "cell_type": "markdown",
      "source": [
        "Tipos de datos"
      ],
      "metadata": {
        "id": "HcKmWutVhK1x"
      }
    },
    {
      "cell_type": "code",
      "source": [
        "#Enteros\n",
        "np.int64"
      ],
      "metadata": {
        "colab": {
          "base_uri": "https://localhost:8080/"
        },
        "id": "5PkENUsUhNjZ",
        "outputId": "5f041a45-d9e1-42d4-c887-5e57f4871476"
      },
      "execution_count": 123,
      "outputs": [
        {
          "output_type": "execute_result",
          "data": {
            "text/plain": [
              "numpy.int64"
            ]
          },
          "metadata": {},
          "execution_count": 123
        }
      ]
    },
    {
      "cell_type": "code",
      "source": [
        "#Decimal, Flotantes\n",
        "np.float64"
      ],
      "metadata": {
        "colab": {
          "base_uri": "https://localhost:8080/"
        },
        "id": "1qb7DXxJhS8Z",
        "outputId": "140ca348-0fd9-4a0b-b1f9-fb2c1da270f8"
      },
      "execution_count": 124,
      "outputs": [
        {
          "output_type": "execute_result",
          "data": {
            "text/plain": [
              "numpy.float64"
            ]
          },
          "metadata": {},
          "execution_count": 124
        }
      ]
    },
    {
      "cell_type": "code",
      "source": [
        "#Complejos\n",
        "np.complex64"
      ],
      "metadata": {
        "colab": {
          "base_uri": "https://localhost:8080/"
        },
        "id": "pCrTlEE4iyXa",
        "outputId": "c62f29e9-94d4-46fe-bd48-cb66f6fabdbd"
      },
      "execution_count": 125,
      "outputs": [
        {
          "output_type": "execute_result",
          "data": {
            "text/plain": [
              "numpy.complex64"
            ]
          },
          "metadata": {},
          "execution_count": 125
        }
      ]
    },
    {
      "cell_type": "code",
      "source": [
        "#boleanos\n",
        "np.bool_"
      ],
      "metadata": {
        "colab": {
          "base_uri": "https://localhost:8080/"
        },
        "id": "1IF04WubJz0p",
        "outputId": "f0c27d28-9e1c-4de5-b4f4-46a3f321b053"
      },
      "execution_count": 126,
      "outputs": [
        {
          "output_type": "execute_result",
          "data": {
            "text/plain": [
              "numpy.bool"
            ]
          },
          "metadata": {},
          "execution_count": 126
        }
      ]
    },
    {
      "cell_type": "code",
      "source": [
        "#Obejtos\n",
        "np.object_"
      ],
      "metadata": {
        "colab": {
          "base_uri": "https://localhost:8080/"
        },
        "id": "Rah9N5DMl50Z",
        "outputId": "95d51898-bdd1-4b00-d493-c058e0d7fce1"
      },
      "execution_count": 127,
      "outputs": [
        {
          "output_type": "execute_result",
          "data": {
            "text/plain": [
              "numpy.object_"
            ]
          },
          "metadata": {},
          "execution_count": 127
        }
      ]
    },
    {
      "cell_type": "code",
      "source": [
        "1#cadenas de texto\n",
        "np.strings"
      ],
      "metadata": {
        "colab": {
          "base_uri": "https://localhost:8080/"
        },
        "id": "P0lkpH0vl_s7",
        "outputId": "cb97bff0-21d5-4589-aa95-abcc12b91d4d"
      },
      "execution_count": 128,
      "outputs": [
        {
          "output_type": "execute_result",
          "data": {
            "text/plain": [
              "<module 'numpy.strings' from '/usr/local/lib/python3.11/dist-packages/numpy/strings/__init__.py'>"
            ]
          },
          "metadata": {},
          "execution_count": 128
        }
      ]
    },
    {
      "cell_type": "code",
      "source": [
        "np.bytes_"
      ],
      "metadata": {
        "colab": {
          "base_uri": "https://localhost:8080/"
        },
        "id": "zwIwO_tsmIgj",
        "outputId": "62b2b465-fd08-4c41-aedb-178c58a19b30"
      },
      "execution_count": 129,
      "outputs": [
        {
          "output_type": "execute_result",
          "data": {
            "text/plain": [
              "numpy.bytes_"
            ]
          },
          "metadata": {},
          "execution_count": 129
        }
      ]
    },
    {
      "cell_type": "markdown",
      "source": [
        "Propiedades Y Caracteristicas Deentro de un Entornos Especificos"
      ],
      "metadata": {
        "id": "VbJaWp73muxa"
      }
    },
    {
      "cell_type": "code",
      "source": [
        "array_3d"
      ],
      "metadata": {
        "colab": {
          "base_uri": "https://localhost:8080/"
        },
        "id": "Jv3eCnIom4fy",
        "outputId": "75435150-d571-4df7-82ab-66749d95ab0b"
      },
      "execution_count": 130,
      "outputs": [
        {
          "output_type": "execute_result",
          "data": {
            "text/plain": [
              "array([[ 10.,  30.,  40.],\n",
              "       [ 50.,  60.,  70.],\n",
              "       [ 80.,  90., 100.]])"
            ]
          },
          "metadata": {},
          "execution_count": 130
        }
      ]
    },
    {
      "cell_type": "code",
      "source": [
        "array_3d.shape"
      ],
      "metadata": {
        "colab": {
          "base_uri": "https://localhost:8080/"
        },
        "id": "v131g5XpnWQ9",
        "outputId": "9bd24f3c-92bf-4c61-8775-189dc4636607"
      },
      "execution_count": 131,
      "outputs": [
        {
          "output_type": "execute_result",
          "data": {
            "text/plain": [
              "(3, 3)"
            ]
          },
          "metadata": {},
          "execution_count": 131
        }
      ]
    },
    {
      "cell_type": "code",
      "source": [
        "#Longitudes\n",
        "len(array_3d)"
      ],
      "metadata": {
        "colab": {
          "base_uri": "https://localhost:8080/"
        },
        "id": "Bkpf9VgvnpXK",
        "outputId": "b5c8855d-0f65-43df-b341-e2f9646f5b47"
      },
      "execution_count": 132,
      "outputs": [
        {
          "output_type": "execute_result",
          "data": {
            "text/plain": [
              "3"
            ]
          },
          "metadata": {},
          "execution_count": 132
        }
      ]
    },
    {
      "cell_type": "code",
      "source": [
        "#numero de Dimensiones\n",
        "array_3d.ndim"
      ],
      "metadata": {
        "colab": {
          "base_uri": "https://localhost:8080/"
        },
        "id": "yKMY3UPjoLWJ",
        "outputId": "a4e66291-3eb8-4449-ac7e-06602864df3c"
      },
      "execution_count": 133,
      "outputs": [
        {
          "output_type": "execute_result",
          "data": {
            "text/plain": [
              "2"
            ]
          },
          "metadata": {},
          "execution_count": 133
        }
      ]
    },
    {
      "cell_type": "code",
      "source": [
        "#Convertir de un dato a otro\n",
        "array_3d.astype(int)"
      ],
      "metadata": {
        "colab": {
          "base_uri": "https://localhost:8080/"
        },
        "id": "EqLIBlnwtDcb",
        "outputId": "6f36188f-b23c-4ae6-c8c4-603273bd31e9"
      },
      "execution_count": 134,
      "outputs": [
        {
          "output_type": "execute_result",
          "data": {
            "text/plain": [
              "array([[ 10,  30,  40],\n",
              "       [ 50,  60,  70],\n",
              "       [ 80,  90, 100]])"
            ]
          },
          "metadata": {},
          "execution_count": 134
        }
      ]
    },
    {
      "cell_type": "markdown",
      "source": [
        "Operadores Matemáticos"
      ],
      "metadata": {
        "id": "U2fla6OPt9v1"
      }
    },
    {
      "cell_type": "code",
      "source": [
        "array_1d"
      ],
      "metadata": {
        "colab": {
          "base_uri": "https://localhost:8080/"
        },
        "id": "mLOIq7uDuD18",
        "outputId": "47aa1983-92b3-450c-c0dd-d643f085904a"
      },
      "execution_count": 135,
      "outputs": [
        {
          "output_type": "execute_result",
          "data": {
            "text/plain": [
              "array([10, 20, 30])"
            ]
          },
          "metadata": {},
          "execution_count": 135
        }
      ]
    },
    {
      "cell_type": "code",
      "source": [
        "#arrat de ejemplos\n",
        "array2=np.random.random((4,4))\n",
        "array2"
      ],
      "metadata": {
        "colab": {
          "base_uri": "https://localhost:8080/"
        },
        "id": "IkVOPjLDukUL",
        "outputId": "51d62190-656c-48a5-b205-0567e8aed272"
      },
      "execution_count": 136,
      "outputs": [
        {
          "output_type": "execute_result",
          "data": {
            "text/plain": [
              "array([[0.10218784, 0.85522379, 0.42913818, 0.48157659],\n",
              "       [0.22875126, 0.28877049, 0.10821266, 0.24176369],\n",
              "       [0.20564154, 0.42747452, 0.4152276 , 0.03532033],\n",
              "       [0.99747439, 0.08041431, 0.32989495, 0.83620369]])"
            ]
          },
          "metadata": {},
          "execution_count": 136
        }
      ]
    },
    {
      "cell_type": "code",
      "source": [
        "array3=np.random.random((4,4))\n",
        "array3"
      ],
      "metadata": {
        "colab": {
          "base_uri": "https://localhost:8080/"
        },
        "id": "0RjB0eVxuzYj",
        "outputId": "26ee756a-04cc-4064-d96d-dacfa2e00d69"
      },
      "execution_count": 137,
      "outputs": [
        {
          "output_type": "execute_result",
          "data": {
            "text/plain": [
              "array([[0.97148695, 0.62947702, 0.76504499, 0.79257071],\n",
              "       [0.66556636, 0.8989966 , 0.72511444, 0.11988007],\n",
              "       [0.31915712, 0.00527274, 0.71958955, 0.1469745 ],\n",
              "       [0.68360319, 0.18895489, 0.51508664, 0.76831481]])"
            ]
          },
          "metadata": {},
          "execution_count": 137
        }
      ]
    },
    {
      "cell_type": "code",
      "source": [
        "#Suma\n",
        "array4=(array2+array3)\n",
        "array4"
      ],
      "metadata": {
        "colab": {
          "base_uri": "https://localhost:8080/"
        },
        "id": "kSwEvL4JvCSy",
        "outputId": "228fdea4-65b2-4ad5-91e8-13f0ab93e2fe"
      },
      "execution_count": 138,
      "outputs": [
        {
          "output_type": "execute_result",
          "data": {
            "text/plain": [
              "array([[1.07367479, 1.48470081, 1.19418317, 1.2741473 ],\n",
              "       [0.89431762, 1.1877671 , 0.8333271 , 0.36164376],\n",
              "       [0.52479866, 0.43274726, 1.13481715, 0.18229483],\n",
              "       [1.68107758, 0.2693692 , 0.84498159, 1.6045185 ]])"
            ]
          },
          "metadata": {},
          "execution_count": 138
        }
      ]
    },
    {
      "cell_type": "code",
      "source": [
        "#otra forma para sumar\n",
        "array4=np.add(array1,array2,array3)\n",
        "array4"
      ],
      "metadata": {
        "colab": {
          "base_uri": "https://localhost:8080/",
          "height": 176
        },
        "id": "qBzL-ZtZvY7r",
        "outputId": "ebb48ae8-4b90-4d4c-f669-d61a2f40d937"
      },
      "execution_count": 141,
      "outputs": [
        {
          "output_type": "error",
          "ename": "NameError",
          "evalue": "name 'array1' is not defined",
          "traceback": [
            "\u001b[0;31m---------------------------------------------------------------------------\u001b[0m",
            "\u001b[0;31mNameError\u001b[0m                                 Traceback (most recent call last)",
            "\u001b[0;32m/tmp/ipython-input-141-2667941054.py\u001b[0m in \u001b[0;36m<cell line: 0>\u001b[0;34m()\u001b[0m\n\u001b[1;32m      1\u001b[0m \u001b[0;31m#otra forma para sumar\u001b[0m\u001b[0;34m\u001b[0m\u001b[0;34m\u001b[0m\u001b[0m\n\u001b[0;32m----> 2\u001b[0;31m \u001b[0marray4\u001b[0m\u001b[0;34m=\u001b[0m\u001b[0mnp\u001b[0m\u001b[0;34m.\u001b[0m\u001b[0madd\u001b[0m\u001b[0;34m(\u001b[0m\u001b[0marray1\u001b[0m\u001b[0;34m,\u001b[0m\u001b[0marray2\u001b[0m\u001b[0;34m,\u001b[0m\u001b[0marray3\u001b[0m\u001b[0;34m)\u001b[0m\u001b[0;34m\u001b[0m\u001b[0;34m\u001b[0m\u001b[0m\n\u001b[0m\u001b[1;32m      3\u001b[0m \u001b[0marray4\u001b[0m\u001b[0;34m\u001b[0m\u001b[0;34m\u001b[0m\u001b[0m\n",
            "\u001b[0;31mNameError\u001b[0m: name 'array1' is not defined"
          ]
        }
      ]
    },
    {
      "cell_type": "code",
      "source": [
        "#resta\n",
        "array4=array1-array2-array3\n",
        "array4"
      ],
      "metadata": {
        "id": "Oq60pVjtvsmM"
      },
      "execution_count": null,
      "outputs": []
    },
    {
      "cell_type": "code",
      "source": [
        "#resta\n",
        "array4=np.subtract(array1,array2)\n",
        "array4"
      ],
      "metadata": {
        "id": "VOrlF9dNwphM"
      },
      "execution_count": null,
      "outputs": []
    },
    {
      "cell_type": "code",
      "source": [
        "#Multipicación\n",
        "array4=np.multiply(array1,array2)\n",
        "array4"
      ],
      "metadata": {
        "id": "qp5MEoR4wP_E"
      },
      "execution_count": null,
      "outputs": []
    },
    {
      "cell_type": "code",
      "source": [
        "#division\n",
        "array4=np.divide(array1,array2)\n",
        "array4"
      ],
      "metadata": {
        "id": "J7gKFMORxknE"
      },
      "execution_count": null,
      "outputs": []
    },
    {
      "cell_type": "code",
      "source": [
        "#Exponentes\n",
        "np.exp(array1)"
      ],
      "metadata": {
        "id": "tqztsOVmxyLE"
      },
      "execution_count": null,
      "outputs": []
    },
    {
      "cell_type": "code",
      "source": [
        "#Seno\n",
        "np.sin(array1)"
      ],
      "metadata": {
        "id": "ix1v5ULdyni0"
      },
      "execution_count": null,
      "outputs": []
    },
    {
      "cell_type": "code",
      "source": [
        "#coseno\n",
        "np.cos(array1)"
      ],
      "metadata": {
        "id": "aziS85PUysUc"
      },
      "execution_count": null,
      "outputs": []
    },
    {
      "cell_type": "code",
      "source": [
        "#algoritmo\n",
        "log_array=np.log(array3)\n",
        "array3"
      ],
      "metadata": {
        "id": "OA1_vFy_yx6W"
      },
      "execution_count": null,
      "outputs": []
    },
    {
      "cell_type": "code",
      "source": [
        "#==\n",
        "array1==array2"
      ],
      "metadata": {
        "id": "YHht9h9iy7bN"
      },
      "execution_count": null,
      "outputs": []
    },
    {
      "cell_type": "code",
      "source": [
        "#<\n",
        "array1"
      ],
      "metadata": {
        "id": "LMgtH2FVzh6l"
      },
      "execution_count": null,
      "outputs": []
    },
    {
      "cell_type": "code",
      "source": [
        "array1<0.5"
      ],
      "metadata": {
        "id": "c5KKdo5gzlXp"
      },
      "execution_count": null,
      "outputs": []
    },
    {
      "cell_type": "code",
      "source": [
        "# <= / >=\n",
        "array2"
      ],
      "metadata": {
        "id": "McQ-vprszpOl"
      },
      "execution_count": null,
      "outputs": []
    },
    {
      "cell_type": "code",
      "source": [
        "array2 <=0.4"
      ],
      "metadata": {
        "id": "KiIvrMqLzusG"
      },
      "execution_count": null,
      "outputs": []
    },
    {
      "cell_type": "markdown",
      "source": [
        "Estadisticas y funciones"
      ],
      "metadata": {
        "id": "k_Ed9XF2z369"
      }
    },
    {
      "cell_type": "code",
      "source": [
        "array6=np.random.random((5,5))\n",
        "array6"
      ],
      "metadata": {
        "id": "zPBPtymsz7NM"
      },
      "execution_count": null,
      "outputs": []
    },
    {
      "cell_type": "code",
      "source": [
        "#suma de elementos\n",
        "sumatotal=array6.sum()\n",
        "print(sumatotal)"
      ],
      "metadata": {
        "id": "RdFXM_NF02hT"
      },
      "execution_count": null,
      "outputs": []
    },
    {
      "cell_type": "code",
      "source": [
        "#Valor minimo - maximo\n",
        "array6.min()"
      ],
      "metadata": {
        "id": "FwtJUZqB1Dot"
      },
      "execution_count": null,
      "outputs": []
    },
    {
      "cell_type": "code",
      "source": [
        "#maximo por fial\n",
        "array6.max(axis=0)"
      ],
      "metadata": {
        "id": "Z_OKJJEO1XTI"
      },
      "execution_count": null,
      "outputs": []
    },
    {
      "cell_type": "code",
      "source": [
        "#fial aculumulada\n",
        "array6.cumsum(axis=1)"
      ],
      "metadata": {
        "id": "RRSzmz7p1vCk"
      },
      "execution_count": null,
      "outputs": []
    },
    {
      "cell_type": "code",
      "source": [
        "#media\n",
        "np.mean(array6)"
      ],
      "metadata": {
        "id": "Jl62P63b2Gvc"
      },
      "execution_count": null,
      "outputs": []
    },
    {
      "cell_type": "code",
      "source": [
        "#mediana\n",
        "np.median(array6)"
      ],
      "metadata": {
        "id": "DyCbtKf02MmF"
      },
      "execution_count": null,
      "outputs": []
    },
    {
      "cell_type": "code",
      "source": [
        "#desviacion es"
      ],
      "metadata": {
        "id": "5V6K0E-w2S_0"
      },
      "execution_count": null,
      "outputs": []
    }
  ]
}