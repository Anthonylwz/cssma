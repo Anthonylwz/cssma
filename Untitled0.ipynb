{
  "nbformat": 4,
  "nbformat_minor": 0,
  "metadata": {
    "colab": {
      "provenance": [],
      "authorship_tag": "ABX9TyNavYwr866Hd1NuA/aK6rke",
      "include_colab_link": true
    },
    "kernelspec": {
      "name": "python3",
      "display_name": "Python 3"
    },
    "language_info": {
      "name": "python"
    }
  },
  "cells": [
    {
      "cell_type": "markdown",
      "metadata": {
        "id": "view-in-github",
        "colab_type": "text"
      },
      "source": [
        "<a href=\"https://colab.research.google.com/github/Anthonylwz/cssma/blob/main/Untitled0.ipynb\" target=\"_parent\"><img src=\"https://colab.research.google.com/assets/colab-badge.svg\" alt=\"Open In Colab\"/></a>"
      ]
    },
    {
      "cell_type": "markdown",
      "source": [
        "Numpy, libreria de ciencia de datos"
      ],
      "metadata": {
        "id": "q0IK7Va7uHwV"
      }
    },
    {
      "cell_type": "code",
      "execution_count": 1,
      "metadata": {
        "id": "pUyCNvjttcYp"
      },
      "outputs": [],
      "source": [
        "import numpy as np\n",
        "#pip install numpy"
      ]
    },
    {
      "cell_type": "markdown",
      "source": [
        "array de 1 dimension"
      ],
      "metadata": {
        "id": "08OsxlD4wxnk"
      }
    },
    {
      "cell_type": "code",
      "source": [
        "array_1d=np.array((10,20,30))\n",
        "print(array_1d)"
      ],
      "metadata": {
        "colab": {
          "base_uri": "https://localhost:8080/"
        },
        "id": "mx39b2fvvqXF",
        "outputId": "7f31a20b-8e51-457c-8a1e-e1e721155aee"
      },
      "execution_count": 4,
      "outputs": [
        {
          "output_type": "stream",
          "name": "stdout",
          "text": [
            "[10 20 30]\n"
          ]
        }
      ]
    },
    {
      "cell_type": "code",
      "source": [
        "array_1d"
      ],
      "metadata": {
        "colab": {
          "base_uri": "https://localhost:8080/"
        },
        "id": "MhdZlgTzwc9t",
        "outputId": "51b3f082-ebb5-472b-f664-dbcd6ca7ecd6"
      },
      "execution_count": 5,
      "outputs": [
        {
          "output_type": "execute_result",
          "data": {
            "text/plain": [
              "array([10, 20, 30])"
            ]
          },
          "metadata": {},
          "execution_count": 5
        }
      ]
    },
    {
      "cell_type": "markdown",
      "source": [
        "Array de 2 dimensiones\n"
      ],
      "metadata": {
        "id": "QPq8qFelwsG1"
      }
    },
    {
      "cell_type": "code",
      "source": [
        "array_2d=np.array([(10,20,30),(50,60,70)])\n",
        "array_2d"
      ],
      "metadata": {
        "colab": {
          "base_uri": "https://localhost:8080/"
        },
        "id": "muhfOuCfwooL",
        "outputId": "c8d3dd4e-2633-4524-a623-82688d9c1822"
      },
      "execution_count": 7,
      "outputs": [
        {
          "output_type": "execute_result",
          "data": {
            "text/plain": [
              "array([[10, 20, 30],\n",
              "       [50, 60, 70]])"
            ]
          },
          "metadata": {},
          "execution_count": 7
        }
      ]
    },
    {
      "cell_type": "markdown",
      "source": [
        "Array de 3 dimensiones"
      ],
      "metadata": {
        "id": "aV_wDWIezMNm"
      }
    },
    {
      "cell_type": "code",
      "source": [
        "array_3d=np.array([(10,30,40),(50,60,70),(80,90,100)], dtype =float)\n",
        "array_3d"
      ],
      "metadata": {
        "colab": {
          "base_uri": "https://localhost:8080/"
        },
        "id": "XqW5kHkAx-Ul",
        "outputId": "15f15db5-9fc2-4058-f1f5-464913841d82"
      },
      "execution_count": 11,
      "outputs": [
        {
          "output_type": "execute_result",
          "data": {
            "text/plain": [
              "array([[ 10,  30,  40],\n",
              "       [ 50,  60,  70],\n",
              "       [ 80,  90, 100]])"
            ]
          },
          "metadata": {},
          "execution_count": 11
        }
      ]
    },
    {
      "cell_type": "markdown",
      "source": [
        "Array con cerors de 3 filas y columnas\n"
      ],
      "metadata": {
        "id": "Fn_I-D4q4WeX"
      }
    },
    {
      "cell_type": "code",
      "source": [
        "np.zeros((3,4))"
      ],
      "metadata": {
        "colab": {
          "base_uri": "https://localhost:8080/"
        },
        "id": "3bc3Kzmr4cdf",
        "outputId": "859f84f4-4d65-404a-9366-d8e56cfc5747"
      },
      "execution_count": 12,
      "outputs": [
        {
          "output_type": "execute_result",
          "data": {
            "text/plain": [
              "array([[0., 0., 0., 0.],\n",
              "       [0., 0., 0., 0.],\n",
              "       [0., 0., 0., 0.]])"
            ]
          },
          "metadata": {},
          "execution_count": 12
        }
      ]
    },
    {
      "cell_type": "code",
      "source": [
        "print(np.zeros((4,5)))"
      ],
      "metadata": {
        "colab": {
          "base_uri": "https://localhost:8080/"
        },
        "id": "wNuChUxW4jrv",
        "outputId": "88686f73-d697-4f77-f124-79dbbe2f6aba"
      },
      "execution_count": 13,
      "outputs": [
        {
          "output_type": "stream",
          "name": "stdout",
          "text": [
            "[[0. 0. 0. 0. 0.]\n",
            " [0. 0. 0. 0. 0.]\n",
            " [0. 0. 0. 0. 0.]\n",
            " [0. 0. 0. 0. 0.]]\n"
          ]
        }
      ]
    },
    {
      "cell_type": "markdown",
      "source": [
        "Array de unos y con 2 dimensiones 4 filas y 5 columnas"
      ],
      "metadata": {
        "id": "6sANFc4Q400X"
      }
    },
    {
      "cell_type": "code",
      "source": [
        "np.ones((2,4,5))"
      ],
      "metadata": {
        "colab": {
          "base_uri": "https://localhost:8080/"
        },
        "id": "qpDWNpSH4-HX",
        "outputId": "7788705d-b139-41de-c65a-4611af056989"
      },
      "execution_count": 14,
      "outputs": [
        {
          "output_type": "execute_result",
          "data": {
            "text/plain": [
              "array([[[1., 1., 1., 1., 1.],\n",
              "        [1., 1., 1., 1., 1.],\n",
              "        [1., 1., 1., 1., 1.],\n",
              "        [1., 1., 1., 1., 1.]],\n",
              "\n",
              "       [[1., 1., 1., 1., 1.],\n",
              "        [1., 1., 1., 1., 1.],\n",
              "        [1., 1., 1., 1., 1.],\n",
              "        [1., 1., 1., 1., 1.]]])"
            ]
          },
          "metadata": {},
          "execution_count": 14
        }
      ]
    },
    {
      "cell_type": "markdown",
      "source": [
        "Arrays intervalos y saltos"
      ],
      "metadata": {
        "id": "jyL5u0_d5X9G"
      }
    },
    {
      "cell_type": "code",
      "source": [
        "np.arange(11,30,2)"
      ],
      "metadata": {
        "colab": {
          "base_uri": "https://localhost:8080/"
        },
        "id": "cwRetaFN5axH",
        "outputId": "b0d64745-73e9-4640-de15-e47ed0a8f46b"
      },
      "execution_count": 18,
      "outputs": [
        {
          "output_type": "execute_result",
          "data": {
            "text/plain": [
              "array([11, 13, 15, 17, 19, 21, 23, 25, 27, 29])"
            ]
          },
          "metadata": {},
          "execution_count": 18
        }
      ]
    },
    {
      "cell_type": "markdown",
      "source": [
        "Array con intervalos y divisiones\n"
      ],
      "metadata": {
        "id": "Entczuut78w4"
      }
    },
    {
      "cell_type": "code",
      "source": [
        "np.linspace(0,4,7)"
      ],
      "metadata": {
        "colab": {
          "base_uri": "https://localhost:8080/"
        },
        "id": "3QyM2paD8BKA",
        "outputId": "9206204f-5ce7-48ac-a11d-34693cb06251"
      },
      "execution_count": 25,
      "outputs": [
        {
          "output_type": "execute_result",
          "data": {
            "text/plain": [
              "array([0.        , 0.66666667, 1.33333333, 2.        , 2.66666667,\n",
              "       3.33333333, 4.        ])"
            ]
          },
          "metadata": {},
          "execution_count": 25
        }
      ]
    },
    {
      "cell_type": "markdown",
      "source": [
        "Arrays con valores dados"
      ],
      "metadata": {
        "id": "4jC2T8-b8kVQ"
      }
    },
    {
      "cell_type": "markdown",
      "source": [
        "números primos 11 al 30"
      ],
      "metadata": {
        "id": "YHRRphs47Wkp"
      }
    },
    {
      "cell_type": "code",
      "source": [
        "np.full((3,3),7)"
      ],
      "metadata": {
        "colab": {
          "base_uri": "https://localhost:8080/"
        },
        "id": "3YYPz0-r8pMQ",
        "outputId": "540b410a-c33e-4300-930d-8d94ddfe45a2"
      },
      "execution_count": 26,
      "outputs": [
        {
          "output_type": "execute_result",
          "data": {
            "text/plain": [
              "array([[7, 7, 7],\n",
              "       [7, 7, 7],\n",
              "       [7, 7, 7]])"
            ]
          },
          "metadata": {},
          "execution_count": 26
        }
      ]
    },
    {
      "cell_type": "markdown",
      "source": [
        "Array con matriz identidad, diagonal de unos"
      ],
      "metadata": {
        "id": "RByVnJj088xI"
      }
    },
    {
      "cell_type": "code",
      "source": [
        "np.eye(3)"
      ],
      "metadata": {
        "colab": {
          "base_uri": "https://localhost:8080/"
        },
        "id": "nJ-yVCyw9E0B",
        "outputId": "c22dc353-d8ae-4260-f0f2-3e0981b36bcf"
      },
      "execution_count": 27,
      "outputs": [
        {
          "output_type": "execute_result",
          "data": {
            "text/plain": [
              "array([[1., 0., 0.],\n",
              "       [0., 1., 0.],\n",
              "       [0., 0., 1.]])"
            ]
          },
          "metadata": {},
          "execution_count": 27
        }
      ]
    },
    {
      "cell_type": "markdown",
      "source": [
        "Array valores Aletorios"
      ],
      "metadata": {
        "id": "s6uKNXeh-gch"
      }
    },
    {
      "cell_type": "code",
      "source": [
        "np.random.random((5,4))"
      ],
      "metadata": {
        "colab": {
          "base_uri": "https://localhost:8080/"
        },
        "id": "o3ZA2NYB-jMx",
        "outputId": "c85c1756-f68c-4887-b42f-5c61718beeb8"
      },
      "execution_count": 52,
      "outputs": [
        {
          "output_type": "execute_result",
          "data": {
            "text/plain": [
              "array([[0.94205593, 0.12919659, 0.09859139, 0.4738297 ],\n",
              "       [0.77159356, 0.67705395, 0.83020915, 0.58373289],\n",
              "       [0.92960211, 0.07186214, 0.82329695, 0.38382005],\n",
              "       [0.90640423, 0.97832979, 0.09338179, 0.18230757],\n",
              "       [0.256625  , 0.64032195, 0.00487076, 0.46060039]])"
            ]
          },
          "metadata": {},
          "execution_count": 52
        }
      ]
    },
    {
      "cell_type": "markdown",
      "source": [
        "Array de numeros vacios 4/*3"
      ],
      "metadata": {
        "id": "rsUcOI6-_FJJ"
      }
    },
    {
      "cell_type": "code",
      "source": [
        "np.empty((4,3))"
      ],
      "metadata": {
        "colab": {
          "base_uri": "https://localhost:8080/"
        },
        "id": "Sk9FXZlM_Oo5",
        "outputId": "283440aa-b068-4a39-8717-2f1ee77bb9ba"
      },
      "execution_count": 56,
      "outputs": [
        {
          "output_type": "execute_result",
          "data": {
            "text/plain": [
              "array([[0., 0., 0.],\n",
              "       [0., 0., 0.],\n",
              "       [0., 0., 0.],\n",
              "       [0., 0., 0.]])"
            ]
          },
          "metadata": {},
          "execution_count": 56
        }
      ]
    }
  ]
}